{
 "cells": [
  {
   "cell_type": "markdown",
   "id": "c425b9a1-862f-48fc-9472-32e44b023521",
   "metadata": {},
   "source": [
    "# Examen 1 : Cours A59 Apprentissage par renforcement\n",
    "<br>\n",
    "Nous allons lors de cet examen tester l'utilisation de Monte Carlo avec l'environnement CliffWalking.<br>\n",
    "L'objectif sera d'appliquer Monte Carlo first visit et de vérifier que l'algorithme est capable de résoudre le problème.<br>\n",
    "<br>\n",
    "Consignes:<br>\n",
    "\n",
    "Vous devrez compléter le code la ou est présente la mention __# votre code__ <br>\n",
    "Vous pouvez choisir d'implémenter différemment l'algortihme tant que vous utilisez Monte Carlo.<br>\n",
    "\n",
    "Vous devrez également répondre aux questions là ou vous trouverez la mention __# votre réponse__<br>\n",
    "<br>\n",
    "## Bonne chance !"
   ]
  },
  {
   "cell_type": "markdown",
   "id": "605f9d60-4319-4211-b664-6ec80f131726",
   "metadata": {},
   "source": [
    "# Chargement des librairies"
   ]
  },
  {
   "cell_type": "code",
   "execution_count": 7,
   "id": "911295f3-6a68-4087-bce2-812839943ece",
   "metadata": {},
   "outputs": [],
   "source": [
    "import numpy as np\n",
    "import gymnasium as gym\n",
    "import matplotlib.pyplot as plt\n",
    "from collections import defaultdict\n",
    "import time"
   ]
  },
  {
   "cell_type": "markdown",
   "id": "83f111df-2c6a-415b-888a-7074a6134b53",
   "metadata": {},
   "source": [
    "# Environnement"
   ]
  },
  {
   "cell_type": "code",
   "execution_count": 8,
   "id": "79c4f569-a7c6-4977-a841-2003547e78f3",
   "metadata": {},
   "outputs": [],
   "source": [
    "NUM_ITERATION = 5000\n",
    "NUM_STEP=1000"
   ]
  },
  {
   "cell_type": "markdown",
   "id": "2e5cccd8-eb52-4532-8a62-54db6245906a",
   "metadata": {},
   "source": [
    "## Cliffwalking\n",
    "\n",
    "Le détail de l'environnement est accessible ici : https://gymnasium.farama.org/environments/toy_text/cliff_walking/"
   ]
  },
  {
   "cell_type": "code",
   "execution_count": 9,
   "id": "0bbcc8df-f197-4e04-a00b-08fbe106b131",
   "metadata": {},
   "outputs": [],
   "source": [
    "env = gym.make('CliffWalking-v0', render_mode=\"ansi\") \n",
    "env_test = gym.make('CliffWalking-v0', render_mode=\"human\") # ,render_mode=\"ansi\")"
   ]
  },
  {
   "cell_type": "markdown",
   "id": "9c1949a8-f8e2-44f2-ac5f-1eed14df5229",
   "metadata": {},
   "source": [
    "___"
   ]
  },
  {
   "cell_type": "markdown",
   "id": "b737eb3e-8ba9-4c2c-8f45-767ddc7f2e16",
   "metadata": {},
   "source": [
    "### Récupérer le nombre d'états possibles à l'aide la classe env et affecter cette valeur à la variable nombre_etat (1pt)"
   ]
  },
  {
   "cell_type": "code",
   "execution_count": 10,
   "id": "9c067b21-d086-454a-939e-0ec904f37c06",
   "metadata": {},
   "outputs": [
    {
     "name": "stdout",
     "output_type": "stream",
     "text": [
      "48\n"
     ]
    }
   ],
   "source": [
    "# nombre d'états\n",
    "# votre code\n",
    "nombre_etat = env.observation_space.n\n",
    "print(nombre_etat)"
   ]
  },
  {
   "cell_type": "markdown",
   "id": "d005c820-7451-4dc6-a3ba-ad27010ac748",
   "metadata": {},
   "source": [
    "### __Question : combien avons nous d'état ?__<br>\n",
    "__Votre réponse :__"
   ]
  },
  {
   "cell_type": "raw",
   "id": "4c3d7811-87de-4fa9-bce3-cc85a075f70e",
   "metadata": {},
   "source": [
    "48\n"
   ]
  },
  {
   "cell_type": "markdown",
   "id": "a5ff000f-b622-45dd-ab2b-5e4093ced65b",
   "metadata": {},
   "source": [
    "___"
   ]
  },
  {
   "cell_type": "markdown",
   "id": "1afc0507-1239-485f-88ff-275ef02b1908",
   "metadata": {},
   "source": [
    "### Récupérer le nombre d'action possible à l'aide la classe env et affecter cette valeur à la variable nombre_action"
   ]
  },
  {
   "cell_type": "code",
   "execution_count": 11,
   "id": "5d917c30-b95b-4153-ad37-620e7b6e0ca9",
   "metadata": {},
   "outputs": [
    {
     "name": "stdout",
     "output_type": "stream",
     "text": [
      "4\n"
     ]
    }
   ],
   "source": [
    "# nombre d'actions possibles\n",
    "# votre code (C2)\n",
    "nombre_action = env.action_space.n\n",
    "print(nombre_action)"
   ]
  },
  {
   "cell_type": "markdown",
   "id": "7a843619-0340-4482-ba53-c4eacdf61800",
   "metadata": {},
   "source": [
    "### __Question : combien avons nous d'action ?__<br>\n",
    "__Votre réponse :__"
   ]
  },
  {
   "cell_type": "raw",
   "id": "9327f4ce-9d7e-44f3-ab40-402d29356ddb",
   "metadata": {},
   "source": [
    "4\n"
   ]
  },
  {
   "cell_type": "markdown",
   "id": "b47ee393-7273-4555-87a7-3d714a903777",
   "metadata": {},
   "source": [
    "___"
   ]
  },
  {
   "cell_type": "code",
   "execution_count": 12,
   "id": "e388b221-95b8-4b86-b659-62a64a2824a0",
   "metadata": {},
   "outputs": [],
   "source": [
    "# La ligne suivante ne devrait pas générer d'erreur\n",
    "assert nombre_action+nombre_etat == 52"
   ]
  },
  {
   "cell_type": "markdown",
   "id": "43b96ad1-ea9d-4134-93fb-95b94d8e5938",
   "metadata": {},
   "source": [
    "### Question : est ce un environnement épisodique ou continu ? (1 pts)\n",
    "Votre réponse :"
   ]
  },
  {
   "cell_type": "raw",
   "id": "0d31e9c1-d0ef-4f67-8760-d722c1149e54",
   "metadata": {},
   "source": [
    "épisodique\n"
   ]
  },
  {
   "cell_type": "markdown",
   "id": "25f2c518-c132-4026-a968-3a85e0913b20",
   "metadata": {},
   "source": [
    "### Question : est ce un environnement conforme aux critéres d'un processus de décision Markovien et pourquoi ? (3 pts)\n",
    "Votre réponse :"
   ]
  },
  {
   "cell_type": "raw",
   "id": "8693b8a5-ee1e-41ff-96f3-cbfc49a92ab3",
   "metadata": {},
   "source": [
    "Oui, actions, récompenses et états finis.\n",
    "On peut s'appuyer sur l'état courant sans remonter dans le passé pour prendre nos décisions.\n"
   ]
  },
  {
   "cell_type": "markdown",
   "id": "29ea3865-fb63-4df6-bb62-da93df21ea74",
   "metadata": {},
   "source": [
    "### Question : Pouvez vous décrire en quelques lignes le principe de l'algorithme Monte Carlo ? (1.5 pts)\n",
    "Votre réponse :"
   ]
  },
  {
   "cell_type": "raw",
   "id": "21c3816f-bb59-420b-8cc3-748671b0a9ad",
   "metadata": {},
   "source": [
    "Jouer un ensemble d'épisode et calculer la récompense moyenne partant d'un état et prenant une action a\n",
    "La récompense moyenne prend en compte le récompense immediate et la valeur de l'état suivant (à partir de s,a)\n"
   ]
  },
  {
   "cell_type": "markdown",
   "id": "e06b6e82-a5ee-49d3-9d6f-992ea88e2a8e",
   "metadata": {},
   "source": [
    "### Question : Quelles sont les situations ou un algortihme Monte Carlo ne fonctionnera pas ? (1.5 points)"
   ]
  },
  {
   "cell_type": "markdown",
   "id": "cca3689c-de45-4c00-9141-2b14cc9a86e5",
   "metadata": {},
   "source": [
    "Exemple : ne fonctionne pas avec les environnements continus<br>\n",
    "Nous avons besoin d'une politique.\n"
   ]
  },
  {
   "cell_type": "markdown",
   "id": "2320c5af-b5bb-4b96-a13b-c561647b3ca1",
   "metadata": {},
   "source": [
    "___"
   ]
  },
  {
   "cell_type": "markdown",
   "id": "ed1d7ee1-b14a-49b5-820e-052921b205e2",
   "metadata": {},
   "source": [
    "# Fonctions utiles"
   ]
  },
  {
   "cell_type": "code",
   "execution_count": 13,
   "id": "4c16572e-c0df-464e-8ad1-03e77ab9b5d6",
   "metadata": {},
   "outputs": [],
   "source": [
    "# définissons une politique e-greedy\n",
    "def policy(Q,epsilon,state):\n",
    "    # votre code (2 pts)\n",
    "    # entrée : tableau de valeur Q (ou dict), epsilon,), état courant\n",
    "    # sortir : action choisie\n",
    "    if np.random.uniform() < epsilon:\n",
    "        return env.action_space.sample()\n",
    "    else:\n",
    "        return np.argmax(Q[state])"
   ]
  },
  {
   "cell_type": "markdown",
   "id": "ecfd4c4b-4489-4e0e-8d2e-e717262057cc",
   "metadata": {},
   "source": [
    "### ne devrait pas générer d'erreur mais cela peut varier avec votre version.\n",
    "Donc donner juste à titre indicatif"
   ]
  },
  {
   "cell_type": "code",
   "execution_count": 52,
   "id": "9ad3526e-ff3b-47f6-9363-d6a9075b540b",
   "metadata": {},
   "outputs": [],
   "source": [
    "np.random.seed(1) # valable si vous avez utilisé numpy pour générer les nombres aléatoires\n",
    "assert policy([0,1,5,2],0,0) == 0 \n"
   ]
  },
  {
   "cell_type": "code",
   "execution_count": 51,
   "id": "82117871-d9f1-4094-8684-f36b279fa117",
   "metadata": {},
   "outputs": [],
   "source": [
    "np.random.seed(1) # valable si vous avez utilisé numpy pour générer les nombres aléatoires\n",
    "env.action_space.seed(1)\n",
    "assert policy([0,1,5,2],1,0)==1"
   ]
  },
  {
   "cell_type": "code",
   "execution_count": 14,
   "id": "18041150-8a97-488b-815b-a2557722b0c4",
   "metadata": {},
   "outputs": [],
   "source": [
    "def generate_episode(Q,epsilon,num_timesteps):\n",
    "    \n",
    "    episode = []\n",
    "    \n",
    "    state = env.reset()[0]\n",
    "\n",
    "    for t in range(num_timesteps):\n",
    "        \n",
    "        # Sélection d'une action en fonction de notre politique\n",
    "        action = policy(Q,epsilon,state)\n",
    "        \n",
    "        # envoie de l'action à l'environnement pour retour (s_, r, done)\n",
    "        next_state, reward, done, truncated, info = env.step(action)\n",
    "        \n",
    "        # stockage dans la liste du triplet (état, action, récompense)\n",
    "        episode.append((state, action, reward))\n",
    "        \n",
    "        if done or truncated:\n",
    "            break\n",
    "            \n",
    "        state = next_state\n",
    "\n",
    "    return episode"
   ]
  },
  {
   "cell_type": "markdown",
   "id": "95856eee-97a3-44d4-8d78-50c829c147c5",
   "metadata": {},
   "source": [
    "---"
   ]
  },
  {
   "cell_type": "markdown",
   "id": "005cae4f-ff37-49d8-9fdc-2e2d1db4a9cd",
   "metadata": {},
   "source": [
    "# Lancons la simulation"
   ]
  },
  {
   "cell_type": "markdown",
   "id": "9434b520-06db-467e-a064-c71cd5858531",
   "metadata": {},
   "source": [
    "### Définissons nos 3 tableaux numpy avec 2 dimensions état/action:<br>\n",
    "Q fonction d'action valeur donc indexé sur les états et les actions par état.<br>\n",
    "total_return cumul par couple état/action des récompenses<br>\n",
    "N comptage du nombre de passage par couple état/action choisie<br>"
   ]
  },
  {
   "cell_type": "markdown",
   "id": "3986afda-691f-482f-8417-c8a2bfab1acb",
   "metadata": {},
   "source": [
    "### début repère 1"
   ]
  },
  {
   "cell_type": "code",
   "execution_count": 15,
   "id": "dc635f54-dfff-4c4f-9880-7e44774169e8",
   "metadata": {},
   "outputs": [],
   "source": [
    "# votre code (1 pts)\n",
    "Q=np.full((nombre_etat,nombre_action),0.0)\n",
    "total_return=np.zeros((nombre_etat,nombre_action))\n",
    "N=np.zeros((nombre_etat,nombre_action))"
   ]
  },
  {
   "cell_type": "markdown",
   "id": "f4e16ebd-d0e3-482a-8220-34b7a39a3dc8",
   "metadata": {},
   "source": [
    "### écrivez le code manquant Mont Carlo First visit"
   ]
  },
  {
   "cell_type": "code",
   "execution_count": 16,
   "id": "50212617-3dfa-4637-848b-d6658764e9f1",
   "metadata": {},
   "outputs": [],
   "source": [
    "# condition FIXES du test\n",
    "np.random.seed(1)\n",
    "num_iterations=NUM_ITERATION\n",
    "num_step=NUM_STEP\n",
    "epsilon=0.20\n",
    "\n",
    "# expérimentation\n",
    "historique_duree_partie = []\n",
    "historique_recompense = []\n",
    "for i in range(num_iterations):\n",
    "    \n",
    "    # on génére un épisode\n",
    "    episode = generate_episode(Q,epsilon,num_step)\n",
    "    \n",
    "    # on stocker les pairs s,a de l'épisode\n",
    "    all_state_action_pairs = [(s, a) for (s,a,r) in episode]\n",
    "    \n",
    "    # on stocke les récompense\n",
    "    rewards = [r for (s,a,r) in episode]\n",
    "\n",
    "    historique_duree_partie.append(len(episode))\n",
    "    historique_recompense.append(np.sum(rewards))\n",
    "\n",
    "    # en appliquant l'algorithme de Monte Carlo première visite, metter à jour total_return, N et par calcul Q\n",
    "    # votre code (environ 6 lignes) ( 5pts)\n",
    "    for t, (state, action, reward) in enumerate(episode):\n",
    "\n",
    "        # First visit : on ne prend en compte que le premier passage s,a\n",
    "        if not (state, action) in all_state_action_pairs[0:t]:\n",
    "            \n",
    "            # Calcul de G avec y = 1\n",
    "            R = sum(rewards[t:])\n",
    "            \n",
    "            # Cumul G\n",
    "            total_return[state,action] = total_return[state,action] + R\n",
    "            \n",
    "            # Comptage du nombre de passage\n",
    "            N[(state, action)] += 1\n",
    "\n",
    "            # Calcul de Q value (s,a) par la moyenne des G cumulés sur N\n",
    "            Q[state,action] = total_return[state, action] / N[state, action]"
   ]
  },
  {
   "cell_type": "markdown",
   "id": "8f735342-2075-44d1-8f73-c55ec380574a",
   "metadata": {},
   "source": [
    "---\n",
    "### Affichons l'évolution de la durée des épisodes au fil de l'expérimentation et l'historique des récompenses"
   ]
  },
  {
   "cell_type": "code",
   "execution_count": 17,
   "id": "88bd0b9a-52bf-40e9-9108-3b8a8d402fe4",
   "metadata": {},
   "outputs": [
    {
     "data": {
      "image/png": "[encoded data removed]",
      "text/plain": [
       "<Figure size 640x480 with 2 Axes>"
      ]
     },
     "metadata": {},
     "output_type": "display_data"
    }
   ],
   "source": [
    "f ,(ax1,ax2) = plt.subplots(2,1,sharex=True)\n",
    "\n",
    "ax1.set_title(\"Durée des épisodes\")\n",
    "ax1.plot(historique_duree_partie)\n",
    "\n",
    "ax2.set_title(\"Récompense\")\n",
    "ax2.plot(historique_recompense)\n",
    "plt.show()\n"
   ]
  },
  {
   "cell_type": "markdown",
   "id": "0da792a7-5735-4c51-8a3e-fa7db810dc5d",
   "metadata": {},
   "source": [
    "### fin repère 1"
   ]
  },
  {
   "cell_type": "markdown",
   "id": "807a497c-1c8a-4e1f-83f0-93e97628dca5",
   "metadata": {},
   "source": [
    "## Vous devriez observer des courbes proches de celles ci dessous\n",
    "\n",
    "![courbes](static/courbes.png)"
   ]
  },
  {
   "cell_type": "markdown",
   "id": "31a0af83-36f0-4fb8-b685-1e3f6b35b800",
   "metadata": {},
   "source": [
    "### Question : quelle est l'action recommandée par notre politique en position 36 ? Est ce correct ? (1 pt)\n",
    "Votre réponse :"
   ]
  },
  {
   "cell_type": "code",
   "execution_count": 18,
   "id": "3e229a6e-74bf-4817-9f92-8be85bbf2c6c",
   "metadata": {},
   "outputs": [
    {
     "data": {
      "text/plain": [
       "array([ -44.6776    , -197.77635783,  -90.3343949 ,  -85.44701987])"
      ]
     },
     "execution_count": 18,
     "metadata": {},
     "output_type": "execute_result"
    }
   ],
   "source": [
    "Q[36]"
   ]
  },
  {
   "cell_type": "raw",
   "id": "dbe5b461-6e99-4de2-b735-decf56ff2789",
   "metadata": {},
   "source": [
    "action = UP -> correct\n"
   ]
  },
  {
   "cell_type": "markdown",
   "id": "5b4caf00-f7b0-4d14-9736-56f537001cef",
   "metadata": {},
   "source": [
    "### Question : quelle est l'action recommandée par notre politique en position 35 ? Est ce correct ? (1 pt)\n",
    "Votre réponse :"
   ]
  },
  {
   "cell_type": "code",
   "execution_count": 19,
   "id": "5b4293d7-7e7d-4ec1-a2ff-5a2eca955eea",
   "metadata": {},
   "outputs": [
    {
     "data": {
      "text/plain": [
       "array([ -6.35064935,  -2.4982699 ,  -1.        , -12.61563518])"
      ]
     },
     "execution_count": 19,
     "metadata": {},
     "output_type": "execute_result"
    }
   ],
   "source": [
    "Q[35]"
   ]
  },
  {
   "cell_type": "raw",
   "id": "d407da33-98d5-4349-be29-d98a84ef9b91",
   "metadata": {},
   "source": [
    "Down -> correct = goal"
   ]
  },
  {
   "cell_type": "markdown",
   "id": "42bd7bc0-7333-4827-9770-e4cd8c3c5b07",
   "metadata": {},
   "source": [
    "### Affichons une simulation d'un épisode.\n",
    "Note : si vous avez des difficultés à la version graphique, vous pouvez changer le mode render_mode=\"ansi\" pour env_test et ajouter un print(env.render()) dans la boucle.<br>\n",
    "\n",
    "### Note __il pourrait arriver que l'agent se bloque dans une colonne de la case gauche. Cela ne veut pas dire que votre algorithme n'a pas fonctionné mais nécessite plus d'entrainement.__\n",
    "\n",
    "Solution : refaite un entrainement à partir de la section début repère 1"
   ]
  },
  {
   "cell_type": "code",
   "execution_count": 20,
   "id": "1883c21e-c2cd-4e7d-8080-50c6bfccb754",
   "metadata": {},
   "outputs": [],
   "source": [
    "state=env_test.reset()[0]\n",
    "done=False\n",
    "while not done:\n",
    "    action=policy(Q,0,state)\n",
    "    state,_,done,truncated,_ = env_test.step(action)\n",
    "    # print(env.render())\n",
    "    time.sleep(0.5)"
   ]
  },
  {
   "cell_type": "markdown",
   "id": "cd2ec106-a41d-4c09-9a8b-3ac5be169acd",
   "metadata": {},
   "source": [
    "### Question : Le petit homme prend il le chemin le plus court et pourquoi ? (2.0 pt)\n",
    "Votre réponse :"
   ]
  },
  {
   "cell_type": "raw",
   "id": "38366fe0-a376-4f2e-9d1a-7a7bf4c701a4",
   "metadata": {},
   "source": [
    "Non, il a tendance a progresser en suivant le haut de la simulation<br>\n",
    "L'algorithme tend à éviter le bas de la matrice car proche de la falaise et donc plus sujet compte tenu d'epsilon (1chance sur 5 * 1 chance sur 4) à  tomber "
   ]
  },
  {
   "cell_type": "raw",
   "id": "77c4300a-dea8-46b7-a46d-0ed0ea91d1e5",
   "metadata": {},
   "source": [
    "\n"
   ]
  },
  {
   "cell_type": "markdown",
   "id": "2fadc073-d46d-4204-a7ff-a411253fd6eb",
   "metadata": {},
   "source": [
    "---"
   ]
  },
  {
   "cell_type": "markdown",
   "id": "6a52f98b-d313-4568-9d90-166d541f545b",
   "metadata": {},
   "source": [
    "---"
   ]
  },
  {
   "cell_type": "markdown",
   "id": "81371f99-73d5-46d7-93e4-7d0ced0a4f11",
   "metadata": {},
   "source": [
    "## Copier le code compris entre les balises **début repère 1** et **fin repère 1** ci dessous.\n",
    "## Notre approche e-greedy n'est pas complétement satisfaisant.\n",
    "## Nous allons faire une décroissance d'espilon progressive.\n",
    "### Modifier le code pour faire évoluer epsilon de 0.90 à 0.05 selon un nombre d'éspisode que je vous laisse apprécier et relancer l'expérimentation. (3 pts)\n"
   ]
  },
  {
   "cell_type": "code",
   "execution_count": null,
   "id": "a89c513b-2ee6-4f01-93ba-7ef7e0b86077",
   "metadata": {},
   "outputs": [],
   "source": []
  },
  {
   "cell_type": "markdown",
   "id": "acc5daa1-596c-4f48-aa2a-6b7c89f725b4",
   "metadata": {},
   "source": [
    "### début repère 1"
   ]
  },
  {
   "cell_type": "code",
   "execution_count": 21,
   "id": "150f11de-a09d-4cd6-9dc1-fb7ebc8b6237",
   "metadata": {},
   "outputs": [],
   "source": [
    "# votre code (1 pts)\n",
    "Q=np.full((nombre_etat,nombre_action),0.0)\n",
    "total_return=np.zeros((nombre_etat,nombre_action))\n",
    "N=np.zeros((nombre_etat,nombre_action))"
   ]
  },
  {
   "cell_type": "code",
   "execution_count": 22,
   "id": "f8306daf-96a7-4808-9031-625b645082ef",
   "metadata": {},
   "outputs": [],
   "source": [
    "### écrivez le code manquant Mont Carlo First visit"
   ]
  },
  {
   "cell_type": "code",
   "execution_count": 23,
   "id": "3ac71048-fdd5-4ccb-8f26-1b088a1a972e",
   "metadata": {},
   "outputs": [],
   "source": [
    "# condition FIXES du test\n",
    "np.random.seed(1)\n",
    "num_iterations=NUM_ITERATION\n",
    "num_step=NUM_STEP\n",
    "epsilonMax=1.00\n",
    "epsilonMin=0.05\n",
    "nbPas=1500\n",
    "\n",
    "# expérimentation\n",
    "historique_duree_partie = []\n",
    "historique_recompense = []\n",
    "epsilon=epsilonMax\n",
    "for i in range(num_iterations):\n",
    "    \n",
    "    # on génére un épisode\n",
    "    episode = generate_episode(Q,epsilon,num_step)\n",
    "    \n",
    "    # on stocker les pairs s,a de l'épisode\n",
    "    all_state_action_pairs = [(s, a) for (s,a,r) in episode]\n",
    "    \n",
    "    # on stocke les récompense\n",
    "    rewards = [r for (s,a,r) in episode]\n",
    "\n",
    "    # asjustement d'epsilon\n",
    "    r=max((nbPas - i)/nbPas,0)\n",
    "    epsilon = (epsilonMax-epsilonMin) * r + epsilonMin\n",
    "    \n",
    "    historique_duree_partie.append(len(episode))\n",
    "    historique_recompense.append(np.sum(rewards))\n",
    "\n",
    "    # en appliquant l'algorithme de Monte Carlo première visite, metter à jour total_return, N et par calcul Q\n",
    "    # votre code (environ 6 lignes) ( 5pts)\n",
    "    for t, (state, action, reward) in enumerate(episode):\n",
    "\n",
    "        # First visit : on ne prend en compte que le premier passage s,a\n",
    "        if not (state, action) in all_state_action_pairs[0:t]:\n",
    "            \n",
    "            # Calcul de G avec y = 1\n",
    "            R = sum(rewards[t:])\n",
    "            \n",
    "            # Cumul G\n",
    "            total_return[state,action] = total_return[state,action] + R\n",
    "            \n",
    "            # Comptage du nombre de passage\n",
    "            N[(state, action)] += 1\n",
    "\n",
    "            # Calcul de Q value (s,a) par la moyenne des G cumulés sur N\n",
    "            Q[state,action] = total_return[state, action] / N[state, action]"
   ]
  },
  {
   "cell_type": "markdown",
   "id": "70dde753-800b-416c-bb89-0336339b4ce9",
   "metadata": {},
   "source": [
    "---\n",
    "### Affichons l'évolution de la durée des épisodes au fil de l'expérimentation et l'historique des récompenses"
   ]
  },
  {
   "cell_type": "code",
   "execution_count": 24,
   "id": "d9fbe233-a474-4a16-83aa-4c890fa32819",
   "metadata": {},
   "outputs": [
    {
     "data": {
      "image/png": "[encoded data removed]",
      "text/plain": [
       "<Figure size 640x480 with 2 Axes>"
      ]
     },
     "metadata": {},
     "output_type": "display_data"
    }
   ],
   "source": [
    "f ,(ax1,ax2) = plt.subplots(2,1,sharex=True)\n",
    "\n",
    "ax1.set_title(\"Durée des épisodes\")\n",
    "ax1.plot(historique_duree_partie)\n",
    "\n",
    "ax2.set_title(\"Récompense\")\n",
    "ax2.plot(historique_recompense)\n",
    "plt.show()\n"
   ]
  },
  {
   "cell_type": "markdown",
   "id": "e3f962f5-e465-45a8-8d9f-a1b175527640",
   "metadata": {},
   "source": [
    "Vous devriez obtenir des courbes prochent de celles ci (peut varier)\n",
    "\n",
    "![courbes](static/courbes_decay.png)"
   ]
  },
  {
   "cell_type": "markdown",
   "id": "1b59cf62-59d8-4d6d-9c8f-6fecbac04d28",
   "metadata": {},
   "source": [
    "### Question : pourquoi la partie gauche des courbes est elle plus épaisse qu'avec une valeur d'epsilon fixe ? (1 pt)"
   ]
  },
  {
   "cell_type": "markdown",
   "id": "32717b40-3aea-4bd0-bda4-205bbcecabce",
   "metadata": {},
   "source": [
    "votre résponse\n"
   ]
  },
  {
   "cell_type": "markdown",
   "id": "0bbb75d6-d846-4867-a8a4-cac53ddfa9c9",
   "metadata": {},
   "source": [
    "---"
   ]
  }
 ],
 "metadata": {
  "kernelspec": {
   "display_name": "Python 3 (ipykernel)",
   "language": "python",
   "name": "python3"
  },
  "language_info": {
   "codemirror_mode": {
    "name": "ipython",
    "version": 3
   },
   "file_extension": ".py",
   "mimetype": "text/x-python",
   "name": "python",
   "nbconvert_exporter": "python",
   "pygments_lexer": "ipython3",
   "version": "3.11.2"
  }
 },
 "nbformat": 4,
 "nbformat_minor": 5
}
