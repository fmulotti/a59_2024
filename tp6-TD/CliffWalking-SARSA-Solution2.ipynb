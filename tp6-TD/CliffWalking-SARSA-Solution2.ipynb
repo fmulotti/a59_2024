{
 "cells": [
  {
   "cell_type": "markdown",
   "id": "16cd54ad-b25e-4173-b613-e2b7c21fc50c",
   "metadata": {},
   "source": [
    "# TD Learning\n",
    "## SARSA\n",
    "   \n",
    "Fabrice Mulotti\n",
    "\n",
    "version 2\n",
    "\n",
    "Licence MIT"
   ]
  },
  {
   "cell_type": "code",
   "execution_count": 21,
   "id": "d52c4948-24a4-4435-bcd9-eb13653980ef",
   "metadata": {},
   "outputs": [],
   "source": [
    "\n",
    "import gymnasium as gym\n",
    "import numpy as np\n",
    "\n",
    "import matplotlib.pyplot as plt"
   ]
  },
  {
   "cell_type": "markdown",
   "id": "11473fa4-b76a-4d48-8b14-356f97351b2b",
   "metadata": {},
   "source": [
    "***\n",
    "## Créons et regardons les caractéristiques de notre environnement"
   ]
  },
  {
   "cell_type": "code",
   "execution_count": 22,
   "id": "5f1a269a-2111-4afb-99e9-ed14f5554bc5",
   "metadata": {},
   "outputs": [
    {
     "data": {
      "text/plain": [
       "(36, {'prob': 1})"
      ]
     },
     "execution_count": 22,
     "metadata": {},
     "output_type": "execute_result"
    }
   ],
   "source": [
    "env = gym.make(\"CliffWalking-v0\",render_mode=\"ansi\")\n",
    "env.reset()"
   ]
  },
  {
   "cell_type": "markdown",
   "id": "4b1cff0f-c18c-4b06-a120-c0bd3dcddb93",
   "metadata": {},
   "source": [
    "## Etat"
   ]
  },
  {
   "cell_type": "code",
   "execution_count": 23,
   "id": "5b4ce7c4-7cc3-4cd5-be26-f4b206c51ee8",
   "metadata": {},
   "outputs": [
    {
     "data": {
      "text/plain": [
       "dtype('int64')"
      ]
     },
     "execution_count": 23,
     "metadata": {},
     "output_type": "execute_result"
    }
   ],
   "source": [
    "env.observation_space.dtype"
   ]
  },
  {
   "cell_type": "code",
   "execution_count": 24,
   "id": "0813439b-689f-4162-aa3c-5067cf266162",
   "metadata": {},
   "outputs": [
    {
     "data": {
      "text/plain": [
       "48"
      ]
     },
     "execution_count": 24,
     "metadata": {},
     "output_type": "execute_result"
    }
   ],
   "source": [
    "env.observation_space.n"
   ]
  },
  {
   "cell_type": "code",
   "execution_count": 25,
   "id": "e9b1815b-8cba-4183-959e-f8f53e42f351",
   "metadata": {},
   "outputs": [
    {
     "data": {
      "text/plain": [
       "8"
      ]
     },
     "execution_count": 25,
     "metadata": {},
     "output_type": "execute_result"
    }
   ],
   "source": [
    "env.observation_space.sample()"
   ]
  },
  {
   "cell_type": "code",
   "execution_count": null,
   "id": "66b6a100-0f68-4956-bb8c-90131fe0524e",
   "metadata": {},
   "outputs": [],
   "source": []
  },
  {
   "cell_type": "markdown",
   "id": "781c84f8-63ec-4fb5-91c8-923e785d494e",
   "metadata": {
    "tags": []
   },
   "source": [
    "## Action"
   ]
  },
  {
   "cell_type": "markdown",
   "id": "06b043f0-3b85-4346-a452-de8ea8db8860",
   "metadata": {},
   "source": [
    "UP = 0   \n",
    "RIGHT = 1   \n",
    "DOWN = 2   \n",
    "LEFT = 3   "
   ]
  },
  {
   "cell_type": "code",
   "execution_count": 26,
   "id": "ccd05139-868d-46fa-879b-d25d055d745b",
   "metadata": {},
   "outputs": [
    {
     "data": {
      "text/plain": [
       "4"
      ]
     },
     "execution_count": 26,
     "metadata": {},
     "output_type": "execute_result"
    }
   ],
   "source": [
    "env.action_space.n"
   ]
  },
  {
   "cell_type": "code",
   "execution_count": 27,
   "id": "7be5c1be-be6e-48a2-871c-a69f5b6afc07",
   "metadata": {},
   "outputs": [
    {
     "data": {
      "text/plain": [
       "2"
      ]
     },
     "execution_count": 27,
     "metadata": {},
     "output_type": "execute_result"
    }
   ],
   "source": [
    "env.action_space.sample()"
   ]
  },
  {
   "cell_type": "code",
   "execution_count": 28,
   "id": "0a11862c-4a6d-4f51-a426-3c1a525458fe",
   "metadata": {},
   "outputs": [],
   "source": [
    "action = [\"up\", \"right\", \"down\", \"left\"]"
   ]
  },
  {
   "cell_type": "markdown",
   "id": "6170fcce-642b-427e-a4c3-1da8b02139cb",
   "metadata": {
    "tags": []
   },
   "source": [
    "***\n",
    "## Créons une politique e-greedy"
   ]
  },
  {
   "cell_type": "code",
   "execution_count": 29,
   "id": "3ed08af3-6295-4f8b-94c7-ca5c909b22c1",
   "metadata": {},
   "outputs": [],
   "source": [
    "def politique_egreedy(env,Q,s,epsilon):\n",
    "    # en entrée : env=environnement, Q fonctions action valeur, s = état courant, epsilon= pour espilon-greedy\n",
    "    r=np.random.uniform()\n",
    "    if r<epsilon:\n",
    "        return(env.action_space.sample())\n",
    "    else:\n",
    "        return(np.argmax(Q[s,]))\n",
    "        # autre solution\n",
    "        # listQ=[]\n",
    "        #for a in range(env.action_space.n):\n",
    "        #    listQ.append(Q[s,a])\n",
    "        # return(np.argmax(listQ))\n",
    "               "
   ]
  },
  {
   "cell_type": "markdown",
   "id": "60cbd68e-ea90-475f-a913-ccdf3dc0753c",
   "metadata": {},
   "source": [
    "***\n",
    "## Initialisation"
   ]
  },
  {
   "cell_type": "markdown",
   "id": "59403ebf-aaa3-45ec-8f42-ffbf87a33a0b",
   "metadata": {},
   "source": [
    "![alt](static/sarsa.png)"
   ]
  },
  {
   "cell_type": "markdown",
   "id": "3c1e8794-9bbe-4dee-9640-73a004780e91",
   "metadata": {},
   "source": [
    "## Définissons nos hyper paramètres et initialisons notre Tableau Q(s,a)"
   ]
  },
  {
   "cell_type": "code",
   "execution_count": 49,
   "id": "0b82b70c-3f73-491c-b888-c43fb862ce86",
   "metadata": {},
   "outputs": [],
   "source": [
    "alpha=0.5   # learning rate\n",
    "gamma=1.0   # part du futur\n",
    "epsilon=0.1 # part de hasard\n",
    "Q=np.zeros((env.observation_space.n,env.action_space.n))"
   ]
  },
  {
   "cell_type": "code",
   "execution_count": 50,
   "id": "4fb956d0-820a-45e9-a1d0-46d175026ea4",
   "metadata": {},
   "outputs": [
    {
     "data": {
      "text/plain": [
       "(48, 4)"
      ]
     },
     "execution_count": 50,
     "metadata": {},
     "output_type": "execute_result"
    }
   ],
   "source": [
    "Q.shape"
   ]
  },
  {
   "cell_type": "code",
   "execution_count": 51,
   "id": "675d7ead-f15a-4e1e-ae2e-1324ce8e632c",
   "metadata": {
    "tags": []
   },
   "outputs": [],
   "source": [
    "# Affiche de valeurs pendant l éxecution\n",
    "verbose=0\n",
    "\n",
    "# liste des valeurs pour créer un graphique \n",
    "histoRecompense=[]\n",
    "histoLongueurEpisode=[]\n",
    "\n",
    "# Nombre d'essai\n",
    "max_iter=1000\n",
    "for i in range(max_iter):\n",
    "    S=env.reset()[0]\n",
    "\n",
    "    done=False\n",
    "    truncated=False\n",
    "    cumulR=0 # cumul des récompenses par épisode\n",
    "    cumulA=0 # cumul du nombre d'action = longueur des épisodes\n",
    "    # Votre code : sélection de la premiere action A=....\n",
    "    A=politique_egreedy(env,Q,S,epsilon)\n",
    "    \n",
    "    while not (done or truncated):\n",
    "        # Votre code = environ 6 lignes de code\n",
    "        # execution d'un step S_,R,done = ...\n",
    "        # selection action suivante\n",
    "        # ajustement de Q\n",
    "        S_ , R, done, truncated, _ = env.step(A)\n",
    "        A_=politique_egreedy(env,Q,S_,epsilon)\n",
    "\n",
    "        Q[S,A] = Q[S,A] + alpha*(R+gamma*Q[S_,A_]-Q[S,A])\n",
    "        # pour debug affichage\n",
    "        if verbose :\n",
    "            print(f\"From S={S},A={action[A]} to S_={S_},A_={action[A_]} R={R}\")\n",
    "            if done:\n",
    "                print(\"----------------------------------------------------\")\n",
    "\n",
    "        cumulR+=R\n",
    "        cumulA+=1\n",
    "\n",
    "        # Votre code : transition etat et action S=... A=...\n",
    "        S=S_\n",
    "        A=A_\n",
    "\n",
    "    histoRecompense.append(cumulR)\n",
    "    histoLongueurEpisode.append(cumulA)"
   ]
  },
  {
   "cell_type": "code",
   "execution_count": 52,
   "id": "9562bbf5-1ae9-4cc5-a9c8-483b2bb9a286",
   "metadata": {},
   "outputs": [
    {
     "data": {
      "text/plain": [
       "array([[ -18.4397388 ,  -17.66597997,  -21.2747198 ,  -21.84432156],\n",
       "       [ -19.9664581 ,  -16.00485971,  -19.10322571,  -18.56404607],\n",
       "       [ -17.78350162,  -14.60503707,  -16.42253617,  -18.92034297],\n",
       "       [ -15.73043183,  -12.79539076,  -15.33118772,  -17.10662318],\n",
       "       [ -13.80417046,  -11.10263206,  -14.57560524,  -15.91568405],\n",
       "       [ -12.93830699,   -9.65561686,  -13.47792403,  -15.01871398],\n",
       "       [ -12.08658628,   -8.4233216 ,  -11.69881548,  -13.16101344],\n",
       "       [ -11.84728907,   -7.25651014,  -11.89572873,  -12.29831046],\n",
       "       [ -10.15898013,   -6.12500557,  -10.93117159,   -9.35787353],\n",
       "       [  -6.53059968,   -5.04569108,   -9.00851246,  -10.01891337],\n",
       "       [  -5.55977876,   -5.43799921,   -4.28273868,   -8.821405  ],\n",
       "       [  -5.20279335,   -4.85445579,   -3.16994866,   -6.44668678],\n",
       "       [ -20.42971975,  -17.5876353 ,  -21.83029328,  -20.96694462],\n",
       "       [ -16.75167725,  -18.54351659,  -20.77993123,  -21.36129032],\n",
       "       [ -14.55790782,  -17.79073253,  -33.43875971,  -21.13523785],\n",
       "       [ -20.3695176 ,  -13.88149463,  -20.20234818,  -18.4512975 ],\n",
       "       [ -15.6018593 ,  -14.58939209,  -22.72593594,  -17.68192151],\n",
       "       [ -13.17858149,  -12.12488646,  -14.59247438,  -15.10674342],\n",
       "       [ -10.21732747,  -12.82124741,  -21.20264352,  -13.44300433],\n",
       "       [ -10.78636711,   -9.84459793,  -11.82000656,  -14.61454271],\n",
       "       [ -10.61892071,   -8.01346648,  -13.71128405,  -12.61056697],\n",
       "       [  -6.58853858,   -7.33063582,  -10.4291606 ,  -11.32709739],\n",
       "       [  -6.88481558,   -3.54472409,   -4.99855387,  -12.57065726],\n",
       "       [  -4.57291505,   -3.85757244,   -2.2719352 ,   -4.85851098],\n",
       "       [ -18.87238664,  -74.11258884,  -28.95342024,  -21.99029766],\n",
       "       [ -17.88860134,  -39.77205459, -124.10241867,  -21.8077837 ],\n",
       "       [ -17.48099207,  -23.19117735, -109.26653855,  -32.0457898 ],\n",
       "       [ -20.35201344,  -62.52483189,  -77.88864452,  -24.71125149],\n",
       "       [ -33.78363127,  -50.07174435, -113.98065694,  -20.32601492],\n",
       "       [ -12.63203766,  -27.68287572, -102.3137673 ,  -31.07168873],\n",
       "       [ -11.58299211,  -24.49946388,  -81.41591568,  -12.87107983],\n",
       "       [  -8.77549767,   -9.11579306, -149.7331218 ,   -6.98735186],\n",
       "       [ -13.94444662,  -26.37738294,  -51.00976562,  -50.41994346],\n",
       "       [  -9.19029704,  -24.97775427, -105.94841934,  -26.26988782],\n",
       "       [  -5.10192554,   -2.06355581, -102.62579035,  -13.52121389],\n",
       "       [  -4.46215305,   -2.27651913,   -1.        ,   -5.18768763],\n",
       "       [ -21.27088893, -126.23576867,  -25.67727597,  -29.92126319],\n",
       "       [   0.        ,    0.        ,    0.        ,    0.        ],\n",
       "       [   0.        ,    0.        ,    0.        ,    0.        ],\n",
       "       [   0.        ,    0.        ,    0.        ,    0.        ],\n",
       "       [   0.        ,    0.        ,    0.        ,    0.        ],\n",
       "       [   0.        ,    0.        ,    0.        ,    0.        ],\n",
       "       [   0.        ,    0.        ,    0.        ,    0.        ],\n",
       "       [   0.        ,    0.        ,    0.        ,    0.        ],\n",
       "       [   0.        ,    0.        ,    0.        ,    0.        ],\n",
       "       [   0.        ,    0.        ,    0.        ,    0.        ],\n",
       "       [   0.        ,    0.        ,    0.        ,    0.        ],\n",
       "       [   0.        ,    0.        ,    0.        ,    0.        ]])"
      ]
     },
     "execution_count": 52,
     "metadata": {},
     "output_type": "execute_result"
    }
   ],
   "source": [
    "Q.reshape(48,4)"
   ]
  },
  {
   "cell_type": "markdown",
   "id": "d47a1501-d634-4466-b550-ae39ffd416bd",
   "metadata": {},
   "source": [
    "## Analyse graphique du résultat"
   ]
  },
  {
   "cell_type": "code",
   "execution_count": 53,
   "id": "82ae83b5-c295-427c-8e43-1cbb5211ee20",
   "metadata": {},
   "outputs": [
    {
     "name": "stderr",
     "output_type": "stream",
     "text": [
      "/tmp/ipykernel_158685/2344350326.py:10: UserWarning: FigureCanvasAgg is non-interactive, and thus cannot be shown\n",
      "  fig.show()\n"
     ]
    },
    {
     "data": {
      "image/png": "[encoded data removed]",
      "text/plain": [
       "<Figure size 640x480 with 2 Axes>"
      ]
     },
     "metadata": {},
     "output_type": "display_data"
    }
   ],
   "source": [
    "fig,(ax1,ax2)=plt.subplots(2,1,sharex=True)\n",
    "\n",
    "ax1.set_title(\"Récompense par épisode\")\n",
    "ax2.set_title(\"Longueur des épisodes\")\n",
    "\n",
    "# fig.title(\"Récompenses cumulées par épisode\")\n",
    "\n",
    "ax2.plot(histoLongueurEpisode[0:200])\n",
    "ax1.plot(histoRecompense[0:200])\n",
    "fig.show()\n"
   ]
  },
  {
   "cell_type": "code",
   "execution_count": 15,
   "id": "99b45603-22e2-4b71-b9dc-43c0b4eccd14",
   "metadata": {},
   "outputs": [],
   "source": [
    "## Essayons une simulation"
   ]
  },
  {
   "cell_type": "code",
   "execution_count": 16,
   "id": "0249f703-62eb-4502-b646-daa6e08f0bad",
   "metadata": {
    "tags": []
   },
   "outputs": [
    {
     "name": "stdout",
     "output_type": "stream",
     "text": [
      "Les 1 indique le passage de notre robot (0 dans les autres cas)\n",
      " \n",
      "[[1. 1. 1. 1. 1. 1. 1. 1. 1. 1. 1. 1.]\n",
      " [1. 0. 0. 0. 0. 0. 0. 0. 0. 0. 0. 1.]\n",
      " [1. 0. 0. 0. 0. 0. 0. 0. 0. 0. 0. 1.]\n",
      " [5. 0. 0. 0. 0. 0. 0. 0. 0. 0. 0. 8.]]\n"
     ]
    }
   ],
   "source": [
    "S=env.reset()[0]\n",
    "done=False\n",
    "visuel=np.zeros((env.observation_space.n))\n",
    "\n",
    "while not (done or truncated):\n",
    "    A=politique_egreedy(env,Q,S,0)\n",
    "    visuel[S]=1\n",
    "    S_,R_,done,truncated,_=env.step(A)\n",
    "    # env.render()\n",
    "    S=S_\n",
    "    \n",
    "visuel[36]=5\n",
    "visuel[47]=8\n",
    "print(\"Les 1 indique le passage de notre robot (0 dans les autres cas)\")\n",
    "print(\" \")\n",
    "print(visuel.reshape(4,12))"
   ]
  },
  {
   "cell_type": "markdown",
   "id": "40742ba1-b8b6-4d44-83d3-7e0cd7663066",
   "metadata": {},
   "source": [
    "![alt](static/cliff_walk.png)"
   ]
  },
  {
   "cell_type": "code",
   "execution_count": null,
   "id": "c6fe35fa-3a37-4f8d-9b87-0019187469d0",
   "metadata": {},
   "outputs": [],
   "source": []
  }
 ],
 "metadata": {
  "kernelspec": {
   "display_name": "Python 3 (ipykernel)",
   "language": "python",
   "name": "python3"
  },
  "language_info": {
   "codemirror_mode": {
    "name": "ipython",
    "version": 3
   },
   "file_extension": ".py",
   "mimetype": "text/x-python",
   "name": "python",
   "nbconvert_exporter": "python",
   "pygments_lexer": "ipython3",
   "version": "3.9.0"
  }
 },
 "nbformat": 4,
 "nbformat_minor": 5
}
