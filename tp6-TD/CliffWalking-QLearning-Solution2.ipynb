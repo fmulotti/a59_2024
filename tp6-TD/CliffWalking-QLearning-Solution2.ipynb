{
 "cells": [
  {
   "cell_type": "markdown",
   "id": "16cd54ad-b25e-4173-b613-e2b7c21fc50c",
   "metadata": {},
   "source": [
    "# TD Learning\n",
    "## SARSA\n",
    "   \n",
    "Fabrice Mulotti\n",
    "\n",
    "version 2\n",
    "\n",
    "Licence MIT"
   ]
  },
  {
   "cell_type": "code",
   "execution_count": 1,
   "id": "d52c4948-24a4-4435-bcd9-eb13653980ef",
   "metadata": {},
   "outputs": [],
   "source": [
    "\n",
    "import gymnasium as gym\n",
    "import numpy as np\n",
    "\n",
    "import matplotlib.pyplot as plt"
   ]
  },
  {
   "cell_type": "markdown",
   "id": "11473fa4-b76a-4d48-8b14-356f97351b2b",
   "metadata": {},
   "source": [
    "***\n",
    "## Créons et regardons les caractéristiques de notre environnement"
   ]
  },
  {
   "cell_type": "code",
   "execution_count": 2,
   "id": "5f1a269a-2111-4afb-99e9-ed14f5554bc5",
   "metadata": {},
   "outputs": [
    {
     "data": {
      "text/plain": [
       "(36, {'prob': 1})"
      ]
     },
     "execution_count": 2,
     "metadata": {},
     "output_type": "execute_result"
    }
   ],
   "source": [
    "env = gym.make(\"CliffWalking-v0\",render_mode=\"ansi\")\n",
    "env.reset()"
   ]
  },
  {
   "cell_type": "markdown",
   "id": "4b1cff0f-c18c-4b06-a120-c0bd3dcddb93",
   "metadata": {},
   "source": [
    "## Etat"
   ]
  },
  {
   "cell_type": "code",
   "execution_count": 3,
   "id": "5b4ce7c4-7cc3-4cd5-be26-f4b206c51ee8",
   "metadata": {},
   "outputs": [
    {
     "data": {
      "text/plain": [
       "dtype('int64')"
      ]
     },
     "execution_count": 3,
     "metadata": {},
     "output_type": "execute_result"
    }
   ],
   "source": [
    "env.observation_space.dtype"
   ]
  },
  {
   "cell_type": "code",
   "execution_count": 4,
   "id": "0813439b-689f-4162-aa3c-5067cf266162",
   "metadata": {},
   "outputs": [
    {
     "data": {
      "text/plain": [
       "48"
      ]
     },
     "execution_count": 4,
     "metadata": {},
     "output_type": "execute_result"
    }
   ],
   "source": [
    "env.observation_space.n"
   ]
  },
  {
   "cell_type": "code",
   "execution_count": 5,
   "id": "e9b1815b-8cba-4183-959e-f8f53e42f351",
   "metadata": {},
   "outputs": [
    {
     "data": {
      "text/plain": [
       "40"
      ]
     },
     "execution_count": 5,
     "metadata": {},
     "output_type": "execute_result"
    }
   ],
   "source": [
    "env.observation_space.sample()"
   ]
  },
  {
   "cell_type": "markdown",
   "id": "781c84f8-63ec-4fb5-91c8-923e785d494e",
   "metadata": {
    "tags": []
   },
   "source": [
    "## Action"
   ]
  },
  {
   "cell_type": "markdown",
   "id": "06b043f0-3b85-4346-a452-de8ea8db8860",
   "metadata": {},
   "source": [
    "UP = 0   \n",
    "RIGHT = 1   \n",
    "DOWN = 2   \n",
    "LEFT = 3   "
   ]
  },
  {
   "cell_type": "code",
   "execution_count": 6,
   "id": "ccd05139-868d-46fa-879b-d25d055d745b",
   "metadata": {},
   "outputs": [
    {
     "data": {
      "text/plain": [
       "4"
      ]
     },
     "execution_count": 6,
     "metadata": {},
     "output_type": "execute_result"
    }
   ],
   "source": [
    "env.action_space.n"
   ]
  },
  {
   "cell_type": "code",
   "execution_count": 7,
   "id": "7be5c1be-be6e-48a2-871c-a69f5b6afc07",
   "metadata": {},
   "outputs": [
    {
     "data": {
      "text/plain": [
       "2"
      ]
     },
     "execution_count": 7,
     "metadata": {},
     "output_type": "execute_result"
    }
   ],
   "source": [
    "env.action_space.sample()"
   ]
  },
  {
   "cell_type": "code",
   "execution_count": 8,
   "id": "0a11862c-4a6d-4f51-a426-3c1a525458fe",
   "metadata": {},
   "outputs": [],
   "source": [
    "action = [\"up\", \"right\", \"down\", \"left\"]"
   ]
  },
  {
   "cell_type": "markdown",
   "id": "6170fcce-642b-427e-a4c3-1da8b02139cb",
   "metadata": {
    "tags": []
   },
   "source": [
    "***\n",
    "## Créons une politique e-greedy"
   ]
  },
  {
   "cell_type": "code",
   "execution_count": 9,
   "id": "3ed08af3-6295-4f8b-94c7-ca5c909b22c1",
   "metadata": {},
   "outputs": [],
   "source": [
    "def politique_egreedy(env,Q,s,epsilon):\n",
    "    # en entrée : env=environnement, Q fonctions action valeur, s = état courant, epsilon= pour espilon-greedy\n",
    "    r=np.random.uniform()\n",
    "    if r<epsilon:\n",
    "        return(env.action_space.sample())\n",
    "    else:\n",
    "        return(np.argmax(Q[s,]))\n",
    "        # autre solution\n",
    "        # listQ=[]\n",
    "        #for a in range(env.action_space.n):\n",
    "        #    listQ.append(Q[s,a])\n",
    "        # return(np.argmax(listQ))\n",
    "               "
   ]
  },
  {
   "cell_type": "markdown",
   "id": "60cbd68e-ea90-475f-a913-ccdf3dc0753c",
   "metadata": {},
   "source": [
    "***\n",
    "## Initialisation"
   ]
  },
  {
   "cell_type": "markdown",
   "id": "59403ebf-aaa3-45ec-8f42-ffbf87a33a0b",
   "metadata": {},
   "source": [
    "![alt](static/qlearning.png)"
   ]
  },
  {
   "cell_type": "markdown",
   "id": "3c1e8794-9bbe-4dee-9640-73a004780e91",
   "metadata": {},
   "source": [
    "## Définissons nos hyper paramètres et initialisons notre Tableau Q(s,a)"
   ]
  },
  {
   "cell_type": "code",
   "execution_count": 10,
   "id": "0b82b70c-3f73-491c-b888-c43fb862ce86",
   "metadata": {},
   "outputs": [],
   "source": [
    "alpha=0.5   # learning rate\n",
    "gamma=1.0   # part du futur\n",
    "epsilon=0.1 # part de hasard\n",
    "Q=np.zeros((env.observation_space.n,env.action_space.n))"
   ]
  },
  {
   "cell_type": "code",
   "execution_count": 11,
   "id": "4fb956d0-820a-45e9-a1d0-46d175026ea4",
   "metadata": {},
   "outputs": [
    {
     "data": {
      "text/plain": [
       "(48, 4)"
      ]
     },
     "execution_count": 11,
     "metadata": {},
     "output_type": "execute_result"
    }
   ],
   "source": [
    "Q.shape"
   ]
  },
  {
   "cell_type": "code",
   "execution_count": 12,
   "id": "675d7ead-f15a-4e1e-ae2e-1324ce8e632c",
   "metadata": {
    "tags": []
   },
   "outputs": [],
   "source": [
    "# Affiche de valeurs pendant l éxecution\n",
    "verbose=0\n",
    "\n",
    "# liste des valeurs pour créer un graphique \n",
    "histoRecompense=[]\n",
    "histoLongueurEpisode=[]\n",
    "\n",
    "# Nombre d'essai\n",
    "max_iter=1000\n",
    "for i in range(max_iter):\n",
    "    S=env.reset()[0]\n",
    "\n",
    "    done=False\n",
    "    truncated=False\n",
    "    cumulR=0 # cumul des récompenses par épisode\n",
    "    cumulA=0 # cumul du nombre d'action = longueur des épisodes\n",
    "    # Votre code : sélection de la premiere action A=....\n",
    "    # ## A=politique_egreedy(env,Q,S,epsilon)\n",
    "    \n",
    "    while not (done or truncated):\n",
    "        # Votre code = environ 6 lignes de code\n",
    "        # execution d'un step S_,R,done = ...\n",
    "        # selection action suivante\n",
    "        # ajustement de Q\n",
    "        A=politique_egreedy(env,Q,S,epsilon) # ##\n",
    "        S_ , R, done, truncated, _ = env.step(A)\n",
    "        A_=politique_egreedy(env,Q,S_,0) # ## epsilon = 0 => pas de hasard = greedy\n",
    "        \n",
    "        Q[S,A] = Q[S,A] + alpha*(R+gamma*Q[S_,A_]-Q[S,A])\n",
    "        # pour debug affichage\n",
    "        if verbose :\n",
    "            print(f\"From S={S},A={action[A]} to S_={S_},A_={action[A_]} R={R}\")\n",
    "            if done:\n",
    "                print(\"----------------------------------------------------\")\n",
    "\n",
    "        cumulR+=R\n",
    "        cumulA+=1\n",
    "\n",
    "        # Votre code : transition etat et action S=... A=...\n",
    "        S=S_\n",
    "        # ## A=A_\n",
    "\n",
    "    histoRecompense.append(cumulR)\n",
    "    histoLongueurEpisode.append(cumulA)"
   ]
  },
  {
   "cell_type": "markdown",
   "id": "d47a1501-d634-4466-b550-ae39ffd416bd",
   "metadata": {},
   "source": [
    "## Analyse graphique du résultat"
   ]
  },
  {
   "cell_type": "code",
   "execution_count": 13,
   "id": "82ae83b5-c295-427c-8e43-1cbb5211ee20",
   "metadata": {},
   "outputs": [
    {
     "name": "stderr",
     "output_type": "stream",
     "text": [
      "/tmp/ipykernel_158789/2344350326.py:10: UserWarning: FigureCanvasAgg is non-interactive, and thus cannot be shown\n",
      "  fig.show()\n"
     ]
    },
    {
     "data": {
      "image/png": "[encoded data removed]",
      "text/plain": [
       "<Figure size 640x480 with 2 Axes>"
      ]
     },
     "metadata": {},
     "output_type": "display_data"
    }
   ],
   "source": [
    "fig,(ax1,ax2)=plt.subplots(2,1,sharex=True)\n",
    "\n",
    "ax1.set_title(\"Récompense par épisode\")\n",
    "ax2.set_title(\"Longueur des épisodes\")\n",
    "\n",
    "# fig.title(\"Récompenses cumulées par épisode\")\n",
    "\n",
    "ax2.plot(histoLongueurEpisode[0:200])\n",
    "ax1.plot(histoRecompense[0:200])\n",
    "fig.show()\n"
   ]
  },
  {
   "cell_type": "code",
   "execution_count": 14,
   "id": "99b45603-22e2-4b71-b9dc-43c0b4eccd14",
   "metadata": {},
   "outputs": [],
   "source": [
    "## Essayons une simulation"
   ]
  },
  {
   "cell_type": "code",
   "execution_count": 15,
   "id": "0249f703-62eb-4502-b646-daa6e08f0bad",
   "metadata": {
    "tags": []
   },
   "outputs": [
    {
     "name": "stdout",
     "output_type": "stream",
     "text": [
      "Les 1 indique le passage de notre robot (0 dans les autres cas)\n",
      " \n",
      "[[0. 0. 0. 0. 0. 0. 0. 0. 0. 0. 0. 0.]\n",
      " [0. 0. 0. 0. 0. 0. 0. 0. 0. 0. 0. 0.]\n",
      " [1. 1. 1. 1. 1. 1. 1. 1. 1. 1. 1. 1.]\n",
      " [5. 0. 0. 0. 0. 0. 0. 0. 0. 0. 0. 8.]]\n"
     ]
    }
   ],
   "source": [
    "S=env.reset()[0]\n",
    "done=False\n",
    "visuel=np.zeros((env.observation_space.n))\n",
    "\n",
    "while not (done or truncated):\n",
    "    A=politique_egreedy(env,Q,S,0)\n",
    "    visuel[S]=1\n",
    "    S_,R_,done,truncated,_=env.step(A)\n",
    "    # env.render()\n",
    "    S=S_\n",
    "    \n",
    "visuel[36]=5\n",
    "visuel[47]=8\n",
    "print(\"Les 1 indique le passage de notre robot (0 dans les autres cas)\")\n",
    "print(\" \")\n",
    "print(visuel.reshape(4,12))"
   ]
  },
  {
   "cell_type": "markdown",
   "id": "40742ba1-b8b6-4d44-83d3-7e0cd7663066",
   "metadata": {},
   "source": [
    "![alt](static/cliff_walk.png)"
   ]
  },
  {
   "cell_type": "code",
   "execution_count": null,
   "id": "c6fe35fa-3a37-4f8d-9b87-0019187469d0",
   "metadata": {},
   "outputs": [],
   "source": []
  }
 ],
 "metadata": {
  "kernelspec": {
   "display_name": "Python 3 (ipykernel)",
   "language": "python",
   "name": "python3"
  },
  "language_info": {
   "codemirror_mode": {
    "name": "ipython",
    "version": 3
   },
   "file_extension": ".py",
   "mimetype": "text/x-python",
   "name": "python",
   "nbconvert_exporter": "python",
   "pygments_lexer": "ipython3",
   "version": "3.9.0"
  }
 },
 "nbformat": 4,
 "nbformat_minor": 5
}
