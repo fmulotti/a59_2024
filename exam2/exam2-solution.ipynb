{
 "cells": [
  {
   "cell_type": "markdown",
   "id": "de6f9cc4-46f6-47c8-8680-e3982fee4474",
   "metadata": {},
   "source": [
    "# Examen 2\n",
    "## Cours A59 - apprentissage par renforcement\n",
    "\n",
    "-----\n",
    "\n",
    "\r",
    "**Objectif**\n",
    "\n",
    "Nous allons utiliser un réseau DQN mais sur un environnement déjà résolu avec des algorithmes classiques.<br>\n",
    "\n",
    "C'est l'opportunité de tester quelques hypothèses sans pénaliser ceux d'entre vous qui ont des machines moins puissantes.<br>\n",
    "\n",
    "Vous aurez besoin des bibliothèques suivantes :<br>\n",
    " tensorflow<br>\n",
    " gymnasium<br>\n",
    " numpy<br>\n",
    " matplotlib<br>\n",
    "\n",
    " \n",
    "(c) Fabrice Mulotti\n"
   ]
  },
  {
   "cell_type": "code",
   "execution_count": 1,
   "id": "26ad6d84-2b6e-4627-a263-7dc57529a147",
   "metadata": {},
   "outputs": [],
   "source": [
    "# import os\n",
    "# os.environ['CUDA_VISIBLE_DEVICES'] = '-1'"
   ]
  },
  {
   "cell_type": "code",
   "execution_count": 2,
   "id": "74ddb3de-19da-4e49-a52e-2e7bd972f225",
   "metadata": {},
   "outputs": [
    {
     "name": "stderr",
     "output_type": "stream",
     "text": [
      "2024-11-03 10:54:12.127250: I tensorflow/core/util/port.cc:153] oneDNN custom operations are on. You may see slightly different numerical results due to floating-point round-off errors from different computation orders. To turn them off, set the environment variable `TF_ENABLE_ONEDNN_OPTS=0`.\n",
      "2024-11-03 10:54:12.127834: I external/local_xla/xla/tsl/cuda/cudart_stub.cc:32] Could not find cuda drivers on your machine, GPU will not be used.\n",
      "2024-11-03 10:54:12.129947: I external/local_xla/xla/tsl/cuda/cudart_stub.cc:32] Could not find cuda drivers on your machine, GPU will not be used.\n",
      "2024-11-03 10:54:12.136142: E external/local_xla/xla/stream_executor/cuda/cuda_fft.cc:477] Unable to register cuFFT factory: Attempting to register factory for plugin cuFFT when one has already been registered\n",
      "WARNING: All log messages before absl::InitializeLog() is called are written to STDERR\n",
      "E0000 00:00:1730649252.146534 1271340 cuda_dnn.cc:8310] Unable to register cuDNN factory: Attempting to register factory for plugin cuDNN when one has already been registered\n",
      "E0000 00:00:1730649252.149323 1271340 cuda_blas.cc:1418] Unable to register cuBLAS factory: Attempting to register factory for plugin cuBLAS when one has already been registered\n",
      "2024-11-03 10:54:12.159250: I tensorflow/core/platform/cpu_feature_guard.cc:210] This TensorFlow binary is optimized to use available CPU instructions in performance-critical operations.\n",
      "To enable the following instructions: AVX2 AVX_VNNI FMA, in other operations, rebuild TensorFlow with the appropriate compiler flags.\n"
     ]
    },
    {
     "name": "stdout",
     "output_type": "stream",
     "text": [
      "Tensorflow version 2.18.0\n"
     ]
    }
   ],
   "source": [
    "import numpy as np\n",
    "import gymnasium as gym\n",
    "from collections import deque\n",
    "import random\n",
    "import matplotlib.pyplot as plt\n",
    "import tensorflow as tf\n",
    "print(f\"Tensorflow version {tf.__version__}\")\n",
    "%matplotlib inline\n",
    "\n",
    "from keras.models import Sequential\n",
    "from keras.layers import Dense, Activation, Flatten\n",
    "# Selon votre version de keras. Si keras 2.x :\n",
    "from tensorflow.keras.optimizers import Adam \n",
    "# si keras 3.x :\n",
    "from tensorflow.keras.optimizers import Adam \n",
    "\n",
    "\n",
    "import time\n",
    "# tf.compat.v1.disable_eager_execution()"
   ]
  },
  {
   "cell_type": "code",
   "execution_count": 3,
   "id": "0e9c455a-751d-4654-90b1-c862aa9f8cc4",
   "metadata": {},
   "outputs": [
    {
     "data": {
      "text/plain": [
       "'1.0.0'"
      ]
     },
     "execution_count": 3,
     "metadata": {},
     "output_type": "execute_result"
    }
   ],
   "source": [
    "gym.__version__"
   ]
  },
  {
   "cell_type": "markdown",
   "id": "10a7419a-fda1-4a7d-9bdb-03f193d88644",
   "metadata": {},
   "source": [
    "---\n",
    "## Définition de l'environnement\n",
    "\n",
    "Lien vers les informations sur l'environnement : __[Frozen lake](https://gymnasium.farama.org/environments/toy_text/frozen_lake/)__\n"
   ]
  },
  {
   "cell_type": "code",
   "execution_count": 4,
   "id": "97eede1d-4dd6-498f-b2c3-2ea15a288abf",
   "metadata": {},
   "outputs": [
    {
     "name": "stdout",
     "output_type": "stream",
     "text": [
      "Nombre d actions : 4, Dimension de l env : 16\n"
     ]
    }
   ],
   "source": [
    "ENV_NAME = \"FrozenLake-v1\"\n",
    "\n",
    "env = gym.make(ENV_NAME,is_slippery=False)\n",
    "np.random.seed(100)\n",
    "env.reset(seed=100)\n",
    "nb_actions = env.action_space.n # Nombre d'action\n",
    "nb_obs = env.observation_space.n # nombre de position dans notre environnement\n",
    "print(f\"Nombre d actions : {nb_actions}, Dimension de l env : {nb_obs}\")"
   ]
  },
  {
   "cell_type": "markdown",
   "id": "dc064f29-c6b1-456b-86eb-4d43106ae655",
   "metadata": {},
   "source": [
    "### Remarques sur l'environnement\n",
    "\n",
    "4 actions possibles :<br>\n",
    "    Gauche, bas, droite, haut\n",
    "    \n",
    "Observation :<br>\n",
    "    Valeurs discrètes (0 à 15)"
   ]
  },
  {
   "cell_type": "markdown",
   "id": "24623509-4236-47b2-ab89-0aa72da7cc09",
   "metadata": {},
   "source": [
    "## Compréhension de l'environnement\n",
    " la suite du TP il va être important de bien comprendre le principe des récompenses."
   ]
  },
  {
   "cell_type": "markdown",
   "id": "0c45e0ff-17a9-488f-8107-d7ab114375e6",
   "metadata": {},
   "source": [
    "La transition vers **l'objectif** rapporte combien ?"
   ]
  },
  {
   "cell_type": "raw",
   "id": "ca2653b4-ba28-47f0-864e-082abcca3696",
   "metadata": {},
   "source": [
    "1"
   ]
  },
  {
   "cell_type": "markdown",
   "id": "dbf14ba0-91b3-40b4-a90f-ccd21e94dbb0",
   "metadata": {},
   "source": [
    "La transition vers **un puit** rapporte combien ?"
   ]
  },
  {
   "cell_type": "raw",
   "id": "27e2a808-2c58-49f7-96aa-ba495dbf7f8f",
   "metadata": {},
   "source": [
    "0"
   ]
  },
  {
   "cell_type": "markdown",
   "id": "87af8bd2-2199-4458-868a-aa459e7ba896",
   "metadata": {},
   "source": [
    "La transition vers une **case gelée** (c'est à dire toutes les autres cases) rapporte combien ?"
   ]
  },
  {
   "cell_type": "raw",
   "id": "6f363486-fd52-40bb-ba1e-8b4d443de61c",
   "metadata": {},
   "source": [
    "0"
   ]
  },
  {
   "cell_type": "markdown",
   "id": "2c81638d-aa42-4a0d-88c4-019ed666a835",
   "metadata": {},
   "source": [
    "Donc un épisode avec echec aura une récompense **totale** (G avec gamma=1) de combien ?"
   ]
  },
  {
   "cell_type": "raw",
   "id": "f89e17b7-2416-4cd8-b301-774950dee637",
   "metadata": {},
   "source": [
    "0"
   ]
  },
  {
   "cell_type": "markdown",
   "id": "77affa37-17c6-426a-8056-dfb72ed85582",
   "metadata": {},
   "source": [
    "Et donc un épisode réussi aura une récompense **totale** (G avec gamma=1) de combien ?"
   ]
  },
  {
   "cell_type": "raw",
   "id": "c6f5470c-6677-4e9c-9f60-1733356b81ce",
   "metadata": {},
   "source": [
    "1"
   ]
  },
  {
   "cell_type": "markdown",
   "id": "1b6056df-4b02-4ea3-8aae-e84cd825869a",
   "metadata": {},
   "source": [
    "Quelles sont donc les deux seules récompenses possibles cumulées pour un épisode ?"
   ]
  },
  {
   "cell_type": "raw",
   "id": "5133cb0e-d984-4f44-9261-15970069dcf2",
   "metadata": {},
   "source": [
    "0 ou 1"
   ]
  },
  {
   "cell_type": "markdown",
   "id": "2ab745a3-2eae-461a-9be7-e2ae06c4b044",
   "metadata": {},
   "source": [
    "---\n",
    "## Représentation de l'environnement\n",
    "\n",
    "Nous sommes sur une matrice 4x4.\n",
    "\n",
    "Il existe plusieurs facons de représentation chaque état.\n",
    "\n",
    "Cela pourrait être par exemple, une seule valeur d'entrée, un entier entre 0 et 15.\n",
    "\n",
    "Nous allons opter pour une approche qui montre plus d'efficacité, nous allons représenter le statut par un numpy de 1 dimension de grandeur 16.\n",
    "Toutes les valeurs seront à zéro, sauf l'indice correspondant à la position du joueur qui sera à 1.\n",
    "\n",
    "Exemple :\n",
    "Si nous déclarerions un tableau numpy S tel que S=np.zeros((16))\n",
    "Alors si le joueur est en position 3 => S[3]=1 \n",
    "\n",
    "S = [ 0 0 0 1 0 0 0 0 0 0 0 0 0 0 0 0 ]"
   ]
  },
  {
   "cell_type": "markdown",
   "id": "9c2cacc8-eff4-4625-a785-bf897bd7e317",
   "metadata": {},
   "source": [
    "---\n",
    "## Réseau de neurones\n"
   ]
  },
  {
   "cell_type": "markdown",
   "id": "92133a94-b855-4460-b2f3-71d079acd974",
   "metadata": {},
   "source": [
    "Quel type de réseau de neurones allons nous utiliser ?"
   ]
  },
  {
   "cell_type": "raw",
   "id": "f373bdaf-1044-4f75-ac13-9371e4b54e16",
   "metadata": {},
   "source": [
    "Nous allons utiliser des réseaux avec des couches denses"
   ]
  },
  {
   "cell_type": "markdown",
   "id": "cd60144d-eb18-4170-ba30-c312ef44c76a",
   "metadata": {},
   "source": [
    "Pouvons donner une proposition de description pour ce réseaux (nombre de neurones pour les couches d'entrée, cachée(s) et de sortie ?\n",
    "Il y a plusieurs réponses possibles."
   ]
  },
  {
   "cell_type": "raw",
   "id": "f38160fc-616f-4241-bc5d-2d267f5610e7",
   "metadata": {},
   "source": [
    "Nous pouvons déclarer une couche cachée dense avec 32 neurones et en entrée 1 neurone (s représenté par une valeur entière) ou 16 neurones (s représenté par un tableau)\n",
    "La couche de sortie sera de 4 neurones, 1 pour chaque action dans le calcul de Q[s,a]"
   ]
  },
  {
   "cell_type": "markdown",
   "id": "f3134929-d0c4-4539-a04c-1880f5092a5d",
   "metadata": {},
   "source": [
    "## Fonctions utiles (rien à coder ici)"
   ]
  },
  {
   "cell_type": "code",
   "execution_count": 5,
   "id": "27478b51-e6ad-472d-b60a-cdb2b9313de7",
   "metadata": {},
   "outputs": [],
   "source": [
    "# Classe pour notre algorithme DQN\n",
    "class DQN:\n",
    "    def __init__(self, obs_size, action_size, gamma, learning_rate,layer1=16):\n",
    "        # Objet : initialisation de la classe\n",
    "        # Paramètres en entrée\n",
    "        #     Nombre de paramètres pour décrire l'état\n",
    "        #     Nombre d'actions\n",
    "        #.    Paramètre gamma : dépréciation futur\n",
    "        #     learning rate\n",
    "        \n",
    "        # dimension des états\n",
    "        self.obs_size = obs_size\n",
    "        \n",
    "        # nombre d'actions\n",
    "        self.action_size = action_size\n",
    "        \n",
    "        # gamma : dépréciation du futur\n",
    "        self.gamma = gamma\n",
    "        \n",
    "        # learning rate\n",
    "        self.learning_rate = learning_rate\n",
    "        \n",
    "        # autres paramètres\n",
    "        self.update_freq = 100 # fréquence de copie des poids (1000)\n",
    "        \n",
    "        # autres structures\n",
    "        self.replay_buffer = deque(maxlen=5000) # enregistrements des résultats\n",
    "        \n",
    "        # Modèle de réseaux de neurones\n",
    "        self.main_network = self.build_model(layer1)\n",
    "        self.target_network = self.build_model(layer1)\n",
    "        \n",
    "        # recopie des poids pour avoir des réseaux à l'identique\n",
    "        self.target_network.set_weights(self.main_network.get_weights())\n",
    "        \n",
    "              \n",
    "    def build_model(self,layer1):\n",
    "        # input : size of the 2 layers\n",
    "        # output : model of neural network\n",
    "        model = Sequential()\n",
    "        model.add(Dense(layer1,input_shape=(self.obs_size,),activation='relu'))\n",
    "        model.add(Dense(self.action_size))\n",
    "        model.add(Activation('linear'))\n",
    "        # si keras 2.x\n",
    "        # model.compile(loss='mse',optimizer=tf.keras.optimizers.legacy.Adam(learning_rate=self.learning_rate))\n",
    "        # si keras 3.x\n",
    "        model.compile(loss='mse',optimizer=tf.keras.optimizers.Adam(learning_rate=self.learning_rate),jit_compile=True)\n",
    "\n",
    "        return model\n",
    "matplotlib\n",
    "    def store_transition(self,state,action,reward,next_state,done):\n",
    "        # input : \n",
    "        # output : nothing\n",
    "        self.replay_buffer.append((state,action,reward,next_state,done))\n",
    "        \n",
    "    def policy(self, state, epsilon):\n",
    "        # Policy : return action regarding the state according to the policy\n",
    "        r = np.random.uniform()\n",
    "        if r < epsilon:\n",
    "            action = np.random.randint(self.action_size)\n",
    "        else:\n",
    "            actions = self.main_network.predict_on_batch(state)\n",
    "            action = np.argmax(actions[0])\n",
    " \n",
    "        return action\n",
    "\n",
    "    @tf.function\n",
    "    def _train_step(self, states, Q_values):    \n",
    "            self.main_network.fit(states,Q_values,epochs=1,verbose=0)\n",
    "        \n",
    "    def train_model_fast(self,batch_size):\n",
    "         # Implémentation parallèle\n",
    "        minibatch = random.sample(self.replay_buffer,batch_size)\n",
    "        states = np.array([i[0] for i in minibatch])\n",
    "        actions = np.array([i[1] for i in minibatch])\n",
    "        rewards = np.array([i[2] for i in minibatch])\n",
    "        next_states = np.array([i[3] for i in minibatch])\n",
    "        dones = np.array([i[4] for i in minibatch])\n",
    "\n",
    "        # on supprime l'axe y (=1) de x,y,z\n",
    "        states = np.squeeze(states)\n",
    "        next_states = np.squeeze(next_states)\n",
    "\n",
    "        # 1-done : si done on ne prend en compte que reward\n",
    "        targets = rewards + self.gamma*(np.amax(self.target_network.predict_on_batch(next_states), axis=1))*(1-dones) \n",
    "        \n",
    "        targets_full = self.target_network.predict_on_batch(states) \n",
    "        ind = np.array([i for i in range(batch_size)])\n",
    "        targets_full[[ind], [actions]] = targets      \n",
    "        \n",
    "        #self.main_network.fit(states, targets_full, epochs=1, verbose=0)\n",
    "        self._train_step(states,targets_full)\n",
    "        \n",
    "    def update_weights(self):matplotlib\n",
    "        self.target_network.set_weights(self.main_network.get_weights())\n",
    "        "
   ]
  },
  {
   "cell_type": "markdown",
   "id": "59693ec1-e611-4f5d-8ec2-624494de339c",
   "metadata": {},
   "source": [
    "---"
   ]
  },
  {
   "cell_type": "markdown",
   "id": "090ec25f-08dd-499a-9275-a4740dc05be9",
   "metadata": {},
   "source": [
    "## Variante DQN (3 pts)\n",
    "\n",
    "Pouvez vous décrire une variante de DQN et son intêret en quelques mots ? "
   ]
  },
  {
   "cell_type": "raw",
   "id": "a5397198-336b-4b89-a7d6-8e0d11efaaf4",
   "metadata": {},
   "source": [
    "Double DQN s'appuie sur une modification de la formule de mise à jour de Q[s,a]\n",
    "\n",
    "Avec DQN, la valeur retenue pour l'état de destination S' est R+ gamma * max_selon_a de Q'[S']\n",
    "Avec DDQN la formule devient  target = R + gamma * Q'[S',max_selon_a de Q[S'], donc l'action la plus rémunératrice est choisi avec main\n",
    "\n",
    "Le  but de DDQN est de diminuer la variance."
   ]
  },
  {
   "cell_type": "markdown",
   "id": "3569745c-6f3a-4cf6-8eed-791db85fc20f",
   "metadata": {},
   "source": [
    "#"
   ]
  },
  {
   "cell_type": "code",
   "execution_count": 6,
   "id": "c9904ba0-be2a-4de2-bd87-adc6f178da63",
   "metadata": {},
   "outputs": [
    {
     "ename": "NameError",
     "evalue": "name 'self' is not defined",
     "output_type": "error",
     "traceback": [
      "\u001b[0;31m---------------------------------------------------------------------------\u001b[0m",
      "\u001b[0;31mNameError\u001b[0m                                 Traceback (most recent call last)",
      "Cell \u001b[0;32mIn[6], line 2\u001b[0m\n\u001b[1;32m      1\u001b[0m \u001b[38;5;66;03m# selection de l'action en S' selon le réseau main\u001b[39;00m\n\u001b[0;32m----> 2\u001b[0m next_actions\u001b[38;5;241m=\u001b[39mnp\u001b[38;5;241m.\u001b[39margmax(\u001b[38;5;28;43mself\u001b[39;49m\u001b[38;5;241m.\u001b[39mmain_network\u001b[38;5;241m.\u001b[39mpredict_on_batch(next_states),axis\u001b[38;5;241m=\u001b[39m\u001b[38;5;241m1\u001b[39m)\n\u001b[1;32m      4\u001b[0m \u001b[38;5;66;03m# Mettre à jour Q[s,a] avec Q'[S',a selon Q]\u001b[39;00m\n\u001b[1;32m      5\u001b[0m targets \u001b[38;5;241m=\u001b[39m rewards \u001b[38;5;241m+\u001b[39m \u001b[38;5;28mself\u001b[39m\u001b[38;5;241m.\u001b[39mgamma\u001b[38;5;241m*\u001b[39m(\u001b[38;5;28mself\u001b[39m\u001b[38;5;241m.\u001b[39mtarget_network\u001b[38;5;241m.\u001b[39mpredict_on_batch(next_states)[[i \u001b[38;5;28;01mfor\u001b[39;00m i \u001b[38;5;129;01min\u001b[39;00m \u001b[38;5;28mrange\u001b[39m(batch_size)],next_actions])\u001b[38;5;241m*\u001b[39m(\u001b[38;5;241m1\u001b[39m\u001b[38;5;241m-\u001b[39mdones)\n",
      "\u001b[0;31mNameError\u001b[0m: name 'self' is not defined"
     ]
    }
   ],
   "source": [
    "        # selection de l'action en S' selon le réseau main\n",
    "        next_actions=np.argmax(self.main_network.predict_on_batch(next_states),axis=1)\n",
    "        \n",
    "        # Mettre à jour Q[s,a] avec Q'[S',a selon Q]\n",
    "        targets = rewards + self.gamma*(self.target_network.predict_on_batch(next_states)[[i for i in range(batch_size)],next_actions])*(1-dones)\n",
    "        \n",
    "        # on récupère Q connu avant mise à jour\n",
    "        targets_full = self.target_network.predict(states,verbose=0) \n",
    "\n",
    "        # mise à jour de Q\n",
    "        ind = np.array([i for i in range(batch_size)])\n",
    "        targets_full[[ind], [actions]] = targets"
   ]
  },
  {
   "cell_type": "markdown",
   "id": "8d7b3808-da5b-4808-8233-09a9674ed3ac",
   "metadata": {},
   "source": [
    "Note : la taille des épisodes est trop petite pour mesurer le bénéfice de DDQN"
   ]
  },
  {
   "cell_type": "code",
   "execution_count": null,
   "id": "d3d92bfe-399a-45c0-bf19-85b6557cb836",
   "metadata": {},
   "outputs": [],
   "source": []
  },
  {
   "cell_type": "code",
   "execution_count": 7,
   "id": "f92ff9dc-3ba9-4ee4-80eb-37f999105bf8",
   "metadata": {},
   "outputs": [],
   "source": [
    "# transformation des données pour compatibilité avec l'alimentation du réseau de neurones (1,s)`\n",
    "def trans_state(s):\n",
    "    state=np.zeros((nb_obs ))\n",
    "    state[s]=1\n",
    "    return  np.reshape(state, [1, nb_obs ])"
   ]
  },
  {
   "cell_type": "code",
   "execution_count": 8,
   "id": "85df0519-b305-42b5-b89d-c684e1055b2e",
   "metadata": {},
   "outputs": [
    {
     "data": {
      "text/plain": [
       "array([[0., 0., 0., 0., 0., 1., 0., 0., 0., 0., 0., 0., 0., 0., 0., 0.]])"
      ]
     },
     "execution_count": 8,
     "metadata": {},
     "output_type": "execute_result"
    }
   ],
   "source": [
    "trans_state(5)"
   ]
  },
  {
   "cell_type": "code",
   "execution_count": 9,
   "id": "2c749e25-2190-484f-81a2-391c3913e52b",
   "metadata": {},
   "outputs": [],
   "source": [
    " assert (trans_state(5) == np.array([[0., 0., 0., 0., 0., 1., 0., 0., 0., 0., 0., 0., 0., 0., 0., 0.]])).all() == True"
   ]
  },
  {
   "cell_type": "markdown",
   "id": "715f0f5a-e07d-4ef9-8d8b-a7588d7213c9",
   "metadata": {},
   "source": [
    "----\n",
    "## Lancons la simulation"
   ]
  },
  {
   "cell_type": "code",
   "execution_count": 10,
   "id": "40544b87-cea1-49c8-b7aa-caecff66e480",
   "metadata": {},
   "outputs": [],
   "source": [
    "num_episodes = 1000\n",
    "batch_size = 10 # K\n",
    "gamma=0.99 \n",
    "\n",
    "# variation du epsilon de notre politique e-greedy\n",
    "epsilon_max=1.00\n",
    "epsilon_min=0.10\n",
    "epsilon_decay=(epsilon_max-epsilon_min)/(num_episodes/2)\n",
    "\n",
    "learning_rate=0.001 # 0.001"
   ]
  },
  {
   "cell_type": "code",
   "execution_count": 11,
   "id": "b7a6730c-1bc9-4f15-932f-1a6da59271fb",
   "metadata": {},
   "outputs": [
    {
     "name": "stderr",
     "output_type": "stream",
     "text": [
      "/home/jupiter/data/dev/tmp2/to_poseidon/rlexam2/lib/python3.11/site-packages/keras/src/layers/core/dense.py:87: UserWarning: Do not pass an `input_shape`/`input_dim` argument to a layer. When using Sequential models, prefer using an `Input(shape)` object as the first layer in the model instead.\n",
      "  super().__init__(activity_regularizer=activity_regularizer, **kwargs)\n",
      "W0000 00:00:1730649267.101727 1271340 gpu_device.cc:2344] Cannot dlopen some GPU libraries. Please make sure the missing libraries mentioned above are installed properly if you would like to use GPU. Follow the guide at https://www.tensorflow.org/install/gpu for how to download and setup the required libraries for your platform.\n",
      "Skipping registering GPU devices...\n"
     ]
    }
   ],
   "source": [
    "dqn = DQN(nb_obs,nb_actions,gamma,learning_rate,64)"
   ]
  },
  {
   "cell_type": "code",
   "execution_count": 12,
   "id": "4f7a5c03-286a-47d9-8361-3136ca70777f",
   "metadata": {},
   "outputs": [
    {
     "name": "stderr",
     "output_type": "stream",
     "text": [
      "WARNING: All log messages before absl::InitializeLog() is called are written to STDERR\n",
      "I0000 00:00:1730649268.192461 1271424 service.cc:148] XLA service 0x7f0200006970 initialized for platform Host (this does not guarantee that XLA will be used). Devices:\n",
      "I0000 00:00:1730649268.192499 1271424 service.cc:156]   StreamExecutor device (0): Host, Default Version\n",
      "2024-11-03 10:54:28.197989: I tensorflow/compiler/mlir/tensorflow/utils/dump_mlir_util.cc:268] disabling MLIR crash reproducer, set env var `MLIR_CRASH_REPRODUCER_DIRECTORY` to enable.\n",
      "I0000 00:00:1730649268.214991 1271424 device_compiler.h:188] Compiled cluster using XLA!  This line is logged at most once for the lifetime of the process.\n"
     ]
    },
    {
     "name": "stdout",
     "output_type": "stream",
     "text": [
      "Episode 100, Taux de victoire 5.0%,                 epsilon 0.82, durée 10, training time 9\n",
      "Episode 200, Taux de victoire 9.0%,                 epsilon 0.64, durée 6, training time 6\n",
      "Episode 300, Taux de victoire 17.0%,                 epsilon 0.46, durée 7, training time 7\n",
      "Episode 400, Taux de victoire 26.0%,                 epsilon 0.28, durée 7, training time 6\n",
      "Episode 500, Taux de victoire 36.0%,                 epsilon 0.1, durée 6, training time 6\n",
      "Episode 600, Taux de victoire 44.0%,                 epsilon 0.1, durée 6, training time 5\n",
      "Episode 700, Taux de victoire 50.0%,                 epsilon 0.1, durée 6, training time 5\n",
      "Episode 800, Taux de victoire 55.0%,                 epsilon 0.1, durée 6, training time 5\n",
      "Episode 900, Taux de victoire 59.0%,                 epsilon 0.1, durée 6, training time 6\n",
      "Episode 999, Taux de victoire 62.0%,                 epsilon 0.1, durée 5, training time 5\n",
      "--------------------------------------------------\n",
      "Durée de l'entrainement = 69.0 secondes\n"
     ]
    }
   ],
   "source": [
    "start_time=time.time()\n",
    "last_time=start_timematplotlib\n",
    "train_time=0\n",
    "time_step = 0  # comptage du nombre total de mouvement\n",
    "histoReturn=[] # pour graphique sur historique récompense\n",
    "epsilon=epsilon_max\n",
    "\n",
    "for i in range(num_episodes):\n",
    "    # somme de la récompense total pour une cycle\n",
    "    Return = 0\n",
    "    \n",
    "    # reset env et conversion state\n",
    "    state = trans_state(env.reset()[0])\n",
    "    done=False\n",
    "    truncated=False\n",
    "    episode_length=0\n",
    "    while not(done or truncated):\n",
    "    \n",
    "        time_step += 1\n",
    "        episode_length+=1\n",
    "\n",
    "        # copie des poids du réseau d'entrainement vers le réseau cible selon la fréquence choisie\n",
    "        if time_step % dqn.update_freq == 0:\n",
    "            dqn.update_weights()\n",
    "        \n",
    "        # sélection d'une action selon notre politique\n",
    "        action = dqn.policy(state,epsilon)\n",
    "\n",
    "        # jouer l'action\n",
    "        next_state, reward, done, truncated , _ = env.step(action)\n",
    "        next_state=trans_state(next_state) # reformatage\n",
    "        if truncated:\n",
    "            done=True \n",
    "      \n",
    "        # enregistrement pour replay\n",
    "        dqn.store_transition(state, action, reward, next_state, done)\n",
    "        \n",
    "        # et shift d'état\n",
    "        state = next_state\n",
    "        \n",
    "        # cumul du retour G\n",
    "        Return += reward\n",
    "\n",
    "        if episode_length==100: # nous limitons les épisodes à 100 mouvements\n",
    "            truncated=True\n",
    "            \n",
    "        # Done ?\n",
    "        if done or truncated:    \n",
    "            # on décremmente epsilon\n",
    "            epsilon -= epsilon_decay\n",
    "            epsilon = max(epsilon_min, epsilon)\n",
    "            histoReturn.append(Return)\n",
    "\n",
    "            # affichage du résultat du cyle\n",
    "            if (i>0 and i % 100 ==0) or i == (num_episodes-1):\n",
    "                print(f\"Episode {i}, Taux de victoire {np.round(np.sum(histoReturn)/(i+1)*100,0)}%,\\\n",
    "                 epsilon {np.round(epsilon,2)}, durée {int(time.time()-last_time)}, training time {int(train_time)}\")\n",
    "                last_time=time.time()\n",
    "                train_time=0\n",
    "            break\n",
    "            \n",
    "        # à partir de + batch-size on entraine le reseau\n",
    "        train_start=time.time()\n",
    "        if len(dqn.replay_buffer) > batch_size: #  and i%10 == 0:\n",
    "            dqn.train_model_fast(batch_size)\n",
    "        train_end=time.time()\n",
    "        train_time += train_end-train_start\n",
    "print(\"--------------------------------------------------\")\n",
    "print(f\"Durée de l'entrainement = {np.round(time.time()-start_time,0)} secondes\")"
   ]
  },
  {
   "cell_type": "markdown",
   "id": "a4263c24-ab38-4596-acf5-b720f65a466e",
   "metadata": {},
   "source": [
    "Vous devriez arriver à un taux de réussite de près de 60% à la fin de l'entrainement."
   ]
  },
  {
   "cell_type": "code",
   "execution_count": 13,
   "id": "31919225-0cc4-4761-964c-9c15d76cd14d",
   "metadata": {},
   "outputs": [
    {
     "data": {
      "text/plain": [
       "(16,)"
      ]
     },
     "execution_count": 13,
     "metadata": {},
     "output_type": "execute_result"
    }
   ],
   "source": [
    "test_decision=np.zeros((nb_obs))\n",
    "test_decision[0] = 1\n",
    "test_decision.shape"
   ]
  },
  {
   "cell_type": "markdown",
   "id": "ca3b8049-ba4b-4224-a5fb-020c07884ae1",
   "metadata": {},
   "source": [
    "---"
   ]
  },
  {
   "cell_type": "markdown",
   "id": "21809c6e-72d4-4378-9a8e-b0dcf44a9db6",
   "metadata": {},
   "source": [
    "Que recommande notre classe dqn en position 0 et 14 ?"
   ]
  },
  {
   "cell_type": "code",
   "execution_count": 14,
   "id": "cdd77614-b34c-48a3-b26f-fde2d452bd36",
   "metadata": {},
   "outputs": [
    {
     "name": "stdout",
     "output_type": "stream",
     "text": [
      "\u001b[1m1/1\u001b[0m \u001b[32m━━━━━━━━━━━━━━━━━━━━\u001b[0m\u001b[37m\u001b[0m \u001b[1m0s\u001b[0m 53ms/step\n"
     ]
    },
    {
     "data": {
      "text/plain": [
       "np.int64(1)"
      ]
     },
     "execution_count": 14,
     "metadata": {},
     "output_type": "execute_result"
    }
   ],
   "source": [
    "np.argmax(dqn.main_network.predict(trans_state(0)))"
   ]
  },
  {
   "cell_type": "code",
   "execution_count": 15,
   "id": "09bafcc4-1bfd-4b81-bf86-9d41c98239d5",
   "metadata": {},
   "outputs": [
    {
     "name": "stdout",
     "output_type": "stream",
     "text": [
      "\u001b[1m1/1\u001b[0m \u001b[32m━━━━━━━━━━━━━━━━━━━━\u001b[0m\u001b[37m\u001b[0m \u001b[1m0s\u001b[0m 12ms/step\n"
     ]
    },
    {
     "data": {
      "text/plain": [
       "np.int64(2)"
      ]
     },
     "execution_count": 15,
     "metadata": {},
     "output_type": "execute_result"
    }
   ],
   "source": [
    "np.argmax(dqn.main_network.predict(trans_state(14)))"
   ]
  },
  {
   "cell_type": "markdown",
   "id": "bb29ec87-c197-4bf5-b726-46e874f6d6f6",
   "metadata": {},
   "source": [
    "Est ce correct ?"
   ]
  },
  {
   "cell_type": "raw",
   "id": "d829e240-da96-4605-a3a4-d248866591d9",
   "metadata": {},
   "source": [
    "Oui !\n",
    "En bas au démarrage et à droite pour la seule permettant d'matplotlibaccéder au résultat\n"
   ]
  },
  {
   "cell_type": "raw",
   "id": "f1b6d465-8471-4da1-aed6-38ce84025b98",
   "metadata": {},
   "source": [
    "\n",
    "\n",
    "    0: Move left\n",
    "\n",
    "    1: Move down\n",
    "\n",
    "    2: Move right\n",
    "\n",
    "    3: Move up\n"
   ]
  },
  {
   "cell_type": "markdown",
   "id": "6400190f-d14b-4eca-8d05-303063e47c2a",
   "metadata": {},
   "source": [
    "---\n",
    "# Comparons avec Q-Learning Classique (rien à coder)"
   ]
  },
  {
   "cell_type": "code",
   "execution_count": 16,
   "id": "55367f5a-aecc-4b9b-bc9c-0615722c3959",
   "metadata": {},
   "outputs": [],
   "source": [
    "def politique_egreedy(env,Q,s,epsilon):\n",
    "    # en entrée : env=environnement, Q fonctions action valeur, s = état courant, epsilon= pour espilon-greedy\n",
    "    r=np.random.uniform()\n",
    "    if r<epsilon:\n",
    "        return(env.action_space.sample())\n",
    "    else:\n",
    "        return(np.argmax(Q[s,]))"
   ]
  },
  {
   "cell_type": "code",
   "execution_count": null,
   "id": "bcbd5f64-e9b6-46de-8e6d-ae739addef64",
   "metadata": {},
   "outputs": [],
   "source": []
  },
  {
   "cell_type": "code",
   "execution_count": 17,
   "id": "6598e006-2aa8-4aad-921d-95e3786d9dbc",
   "metadata": {
    "scrolled": true
   },
   "outputs": [
    {
     "name": "stdout",
     "output_type": "stream",
     "text": [
      "Episode 0, Taux de victoire 0.0%,      epsilon 1.0\n",
      "Episode 5000, Taux de victoire 4.0%,      epsilon 0.82\n",
      "Episode 10000, Taux de victoire 10.0%,      epsilon 0.64\n",
      "Episode 15000, Taux de victoire 19.0%,      epsilon 0.46\n",
      "Episode 20000, Taux de victoire 28.0%,      epsilon 0.28\n",
      "Episode 25000, Taux de victoire 38.0%,      epsilon 0.1\n",
      "Episode 30000, Taux de victoire 47.0%,      epsilon 0.1\n",
      "Episode 35000, Taux de victoire 53.0%,      epsilon 0.1\n",
      "Episode 40000, Taux de victoire 58.0%,      epsilon 0.1\n",
      "Episode 45000, Taux de victoire 61.0%,      epsilon 0.1\n",
      "Episode 49999, Taux de victoire 64.0%,      epsilon 0.1\n",
      "Durée de l'entrainement = 3.0 secondes\n"
     ]
    }
   ],
   "source": [
    "# Nombre d'essai\n",
    "max_iter=50000\n",
    "alpha=0.50   # learning rate\n",
    "gamma=0.99   # part du futur\n",
    "epsilon=1.0 # part de hasard\n",
    "epsilon_min=0.10\n",
    "epsilon_decay=(epsilon-epsilon_min)/(max_iter/2)\n",
    "Q=np.zeros((env.observation_space.n,env.action_space.n))\n",
    "matplotlib\n",
    "# liste des valeurs pour créer un graphique \n",
    "histoReturn=[]\n",
    "histoLongueurEpisode=[]\n",
    "start_time=time.time()\n",
    "for i in range(max_iter):\n",
    "    S=env.reset()[0]\n",
    "\n",
    "    done=False\n",
    "    truncated=False\n",
    "    cumulR=0 # cumul des récompenses par épisode\n",
    "    cumulA=0 # cumul du nombre d'action = longueur des épisodes\n",
    "    \n",
    "    while not (done or truncated):\n",
    "        A=politique_egreedy(env,Q,S,epsilon)\n",
    "        S_ , R, done, truncated, _ = env.step(A)\n",
    "        A_=politique_egreedy(env,Q,S_,0) # ## epsilon = 0 => pas de hasard = greedy\n",
    "        \n",
    "        Q[S,A] = Q[S,A] + alpha*(R+gamma*Q[S_,A_]-Q[S,A])\n",
    "\n",
    "        cumulR+=R\n",
    "        cumulA+=1\n",
    "        S=S_\n",
    "\n",
    "    epsilon -= epsilon_decay\n",
    "    epsilon = max(epsilon, epsilon_min)\n",
    "    \n",
    "    histoReturn.append(cumulR)\n",
    "    histoLongueurEpisode.append(cumulA)\n",
    " \n",
    "    if i % (max_iter/10) ==0 or i == (max_iter-1):\n",
    "      print(f\"Episode {i}, Taux de victoire {np.round(np.sum(histoReturn)/(i+1)*100,0)}%,\\\n",
    "      epsilon {np.round(epsilon,2)}\")\n",
    "\n",
    "print(f\"Durée de l'entrainement = {np.round(time.time()-start_time,0)} secondes\")"
   ]
  },
  {
   "cell_type": "markdown",
   "id": "22c1a93e-a7c5-46c1-a45b-c0bf27d73e8b",
   "metadata": {},
   "source": [
    "Vous devriez arriver à un taux autour de 60%"
   ]
  },
  {
   "cell_type": "code",
   "execution_count": 18,
   "id": "40d6e640-50aa-4675-9b26-000de8de0763",
   "metadata": {},
   "outputs": [
    {
     "name": "stderr",
     "output_type": "stream",
     "text": [
      "/tmp/ipykernel_1271340/156184330.py:9: RuntimeWarning: invalid value encountered in divide\n",
      "  ax1.plot(np.cumsum(histoReturn)/np.arange(max_iter)*100)\n",
      "/tmp/ipykernel_1271340/156184330.py:10: UserWarning: FigureCanvasAgg is non-interactive, and thus cannot be shown\n",
      "  fig.show()\n"
     ]
    },
    {
     "data": {
      "image/png": "[encoded data removed]",
      "text/plain": [
       "<Figure size 640x480 with 2 Axes>"
      ]
     },
     "metadata": {},
     "output_type": "display_data"
    }
   ],
   "source": [
    "fig,(ax1,ax2)=plt.subplots(2,1,sharex=True)\n",
    "\n",
    "ax1.set_title(\"Taux de réussite\")\n",
    "ax2.set_title(\"Longueur des épisodes\")\n",
    "\n",
    "# fig.title(\"Récompenses cumulées par épisode\")\n",
    "\n",
    "ax2.plot(histoLongueurEpisode)\n",
    "ax1.plot(np.cumsum(histoReturn)/np.arange(max_iter)*100)\n",
    "fig.show()"
   ]
  },
  {
   "cell_type": "markdown",
   "id": "0363d1ef-e6f7-45c9-acd7-eab205aef2d4",
   "metadata": {},
   "source": [
    "---\n",
    "# Comparaison\n",
    "\n",
    "Nous venons de tester un algortihme avec réseau de neurones et un algoritgme classique.\n",
    "\n",
    "En comparant le temps de traitement, puis le nombre d'épisode, quelles conclusions pouvez vous tirer ?"
   ]
  },
  {
   "cell_type": "raw",
   "id": "add107e1-8b45-4772-afb1-f6b8e1a94075",
   "metadata": {},
   "source": [
    "Pour un résultat identique, DQN consomme plus de ressource, est plug long, mais a besoin de moins d'épisode\n",
    "\n",
    "A contrario, q-learning est plus rapide, consomme moins de CPU mais demande beaucoup plus d'expérimentation.\n",
    "\n",
    "Le contexte dictera un choix entre les deux"
   ]
  },
  {
   "cell_type": "markdown",
   "id": "d258315a-d98b-40c8-ad7e-c747fec149cb",
   "metadata": {},
   "source": [
    "---\n",
    "## DQN vs Policy Gradient ( 5pts)\n",
    "\n",
    "Aurions nous pu utiliser policy gradient pour résoudre cet environnement ?"
   ]
  },
  {
   "cell_type": "markdown",
   "id": "1b09e219-8a51-4ae7-82a5-770644cd40e3",
   "metadata": {},
   "source": [
    "Oui bien sur. Pas de différence."
   ]
  },
  {
   "cell_type": "markdown",
   "id": "a3301f3a-b165-4c4a-b31a-d78e0497b3c5",
   "metadata": {},
   "source": [
    "Citer 3 différences entre les deux implémentations (DQN vs Policy Gradient) ?"
   ]
  },
  {
   "cell_type": "markdown",
   "id": "0ee22e0e-67bf-4459-833a-196ebc4478b6",
   "metadata": {},
   "source": [
    "DQN estime les Q[s,a], Policy gradient estime les probabilités d'actions<br>\n",
    "\n",
    "DQN s'appui sur un replay buffer, PG sur un enregistrement des épisodes comme Monte Carlo.<br>\n",
    "\n",
    "DQN nécessite deux RNs, Policy Gradient un seul.<br>\n",
    "\n",
    "DQN ne peut traiter qu'un ensemble fini d'action, PG peut traiter des actions continues"
   ]
  },
  {
   "cell_type": "markdown",
   "id": "607d30fb-a75a-4c0c-b31f-e1437d23f1eb",
   "metadata": {},
   "source": [
    "---\n",
    "# N'oubliez pas de m'envoyer le notebook par MIO !"
   ]
  },
  {
   "cell_type": "code",
   "execution_count": null,
   "id": "6ccb0394-3fe5-491f-a5fc-db48a1fc4c9d",
   "metadata": {},
   "outputs": [],
   "source": []
  },
  {
   "cell_type": "code",
   "execution_count": null,
   "id": "bde61560-6b75-4e64-b947-48c4a0b8e0dd",
   "metadata": {},
   "outputs": [],
   "source": []
  },
  {
   "cell_type": "code",
   "execution_count": null,
   "id": "b7b03e27-379e-4e00-b7a8-8f140744e83c",
   "metadata": {},
   "outputs": [],
   "source": []
  }
 ],
 "metadata": {
  "kernelspec": {
   "display_name": "Python 3 (ipykernel)",
   "language": "python",
   "name": "python3"
  },
  "language_info": {
   "codemirror_mode": {
    "name": "ipython",
    "version": 3
   },
   "file_extension": ".py",
   "mimetype": "text/x-python",
   "name": "python",
   "nbconvert_exporter": "python",
   "pygments_lexer": "ipython3",
   "version": "3.11.2"
  }
 },
 "nbformat": 4,
 "nbformat_minor": 5
}
