{
 "cells": [
  {
   "cell_type": "markdown",
   "metadata": {},
   "source": [
    "# Every-visit MC prediction \n"
   ]
  },
  {
   "cell_type": "markdown",
   "metadata": {},
   "source": [
    " \n",
    "(c) Fabrice Mulotti"
   ]
  },
  {
   "cell_type": "code",
   "execution_count": 1,
   "metadata": {},
   "outputs": [],
   "source": [
    "import gymnasium as gym\n",
    "import pandas as pd\n",
    "from collections import defaultdict"
   ]
  },
  {
   "cell_type": "markdown",
   "metadata": {},
   "source": [
    "Create a blackjack environment:"
   ]
  },
  {
   "cell_type": "code",
   "execution_count": 2,
   "metadata": {},
   "outputs": [],
   "source": [
    "env = gym.make('Blackjack-v1')"
   ]
  },
  {
   "cell_type": "markdown",
   "metadata": {},
   "source": [
    "## Définissons une politque\n",
    "\n",
    "state[0] renvoie le nombre de point du joueur.   \n",
    "\n",
    "L'action :      \n",
    "0 est standby   \n",
    "1 est hit (nouvelle carte)  "
   ]
  },
  {
   "cell_type": "code",
   "execution_count": 3,
   "metadata": {},
   "outputs": [],
   "source": [
    "def policy(pstate):\n",
    "    return 0 if pstate[0] > 19 else 1"
   ]
  },
  {
   "cell_type": "code",
   "execution_count": 4,
   "metadata": {},
   "outputs": [
    {
     "name": "stdout",
     "output_type": "stream",
     "text": [
      "((12, 10, 1), {})\n"
     ]
    }
   ],
   "source": [
    "## créons notre environnement\n",
    "state = env.reset()\n",
    "print(state)"
   ]
  },
  {
   "cell_type": "code",
   "execution_count": 5,
   "metadata": {},
   "outputs": [
    {
     "name": "stdout",
     "output_type": "stream",
     "text": [
      "1\n"
     ]
    }
   ],
   "source": [
    "print(policy(state[0]))"
   ]
  },
  {
   "cell_type": "code",
   "execution_count": null,
   "metadata": {},
   "outputs": [],
   "source": []
  },
  {
   "cell_type": "code",
   "execution_count": 6,
   "metadata": {},
   "outputs": [],
   "source": [
    "# De devrait pas renvoyer d'erreur\n",
    "assert policy([19,2,2]) == 1"
   ]
  },
  {
   "cell_type": "code",
   "execution_count": 7,
   "metadata": {},
   "outputs": [
    {
     "ename": "AssertionError",
     "evalue": "",
     "output_type": "error",
     "traceback": [
      "\u001b[0;31m---------------------------------------------------------------------------\u001b[0m",
      "\u001b[0;31mAssertionError\u001b[0m                            Traceback (most recent call last)",
      "Cell \u001b[0;32mIn[7], line 2\u001b[0m\n\u001b[1;32m      1\u001b[0m \u001b[38;5;66;03m# Devrait renvoyer une erreur\u001b[39;00m\n\u001b[0;32m----> 2\u001b[0m \u001b[38;5;28;01massert\u001b[39;00m policy([\u001b[38;5;241m20\u001b[39m,\u001b[38;5;241m2\u001b[39m,\u001b[38;5;241m2\u001b[39m]) \u001b[38;5;241m==\u001b[39m \u001b[38;5;241m1\u001b[39m\n",
      "\u001b[0;31mAssertionError\u001b[0m: "
     ]
    }
   ],
   "source": [
    "# Devrait renvoyer une erreur\n",
    "assert policy([20,2,2]) == 1"
   ]
  },
  {
   "cell_type": "markdown",
   "metadata": {},
   "source": [
    "***\n",
    "## Generatrice d'épisode\n",
    "Notre prochain fonction va nous permettre de générer des épisodes\n"
   ]
  },
  {
   "cell_type": "code",
   "execution_count": 8,
   "metadata": {},
   "outputs": [],
   "source": [
    "def generate_episode(policy,max_turn):\n",
    "    \n",
    "    # Enregistrement des épisodes\n",
    "    episode = []\n",
    "    \n",
    "    # Remise à zéro env\n",
    "    ge_state = env.reset()[0]\n",
    "  \n",
    "    # déroulement de la partie\n",
    "    for i in range(max_turn):\n",
    "        # choix d'une action en fonction de notre police\n",
    "        action = policy(ge_state)\n",
    "        \n",
    "        # on joue notre action en on récupère les résultats\n",
    "        ge_next_state, reward, done, truncated, info = env.step(action)\n",
    "        \n",
    "        # enregistrement\n",
    "        episode.append((ge_state, action, reward))\n",
    "        \n",
    "        # Condition de fin ?\n",
    "        if done or truncated:\n",
    "            break\n",
    "\n",
    "        # sinon la partie continue\n",
    "        ge_state = ge_next_state\n",
    "\n",
    "    return episode"
   ]
  },
  {
   "cell_type": "code",
   "execution_count": 9,
   "metadata": {},
   "outputs": [
    {
     "data": {
      "text/plain": [
       "[((14, 10, 0), 1, 0.0), ((19, 10, 0), 1, 0.0), ((21, 10, 0), 0, 0.0)]"
      ]
     },
     "execution_count": 9,
     "metadata": {},
     "output_type": "execute_result"
    }
   ],
   "source": [
    "# Devrait produit une partie\n",
    "generate_episode(policy,100)"
   ]
  },
  {
   "cell_type": "markdown",
   "metadata": {},
   "source": [
    "***\n",
    "## Calcul de la fonction de valeur\n",
    "\n",
    "Nous allons devoir générer un grand nombre d'épisode et ajuster la `valeur moyenne de v` à chaque passage sur un état s\n",
    "\n",
    " "
   ]
  },
  {
   "cell_type": "code",
   "execution_count": 27,
   "metadata": {},
   "outputs": [],
   "source": [
    "# total_return = fonction de valeur pour chaque état\n",
    "total_return = defaultdict(float)\n",
    "\n",
    "# N nombre de passage sur chaque état\n",
    "N = defaultdict(int)"
   ]
  },
  {
   "cell_type": "code",
   "execution_count": 28,
   "metadata": {},
   "outputs": [],
   "source": [
    "# Nombre d'itération\n",
    "num_iterations = 100000\n",
    "gamma=0.90"
   ]
  },
  {
   "cell_type": "code",
   "execution_count": 29,
   "metadata": {},
   "outputs": [],
   "source": [
    "for i in range(num_iterations):\n",
    "    \n",
    "    # générons un épisode\n",
    "    episode = generate_episode(policy,100)\n",
    "\n",
    "    # stockons l'état, action et récompense obtenue / zip permet de prendre chaque 1, 2eme, 3eme.. terme\n",
    "    states, actions, rewards = zip(*episode)\n",
    "    # pour chaque état rencontré dans l'épisode\n",
    "\n",
    "    G=0\n",
    "    # print(states)\n",
    "    for t in range(len(states)-1,-1,-1):\n",
    "        state=states[t]\n",
    "        # print(f\"t={t}, state={state}, R={R}\")\n",
    "        G=G*gamma+rewards[t] \n",
    "        # if state not in states[t:]:\n",
    "        total_return[state] += G\n",
    "        N[state] += 1\n",
    "            "
   ]
  },
  {
   "cell_type": "markdown",
   "metadata": {},
   "source": [
    "***\n",
    "## Analysons nos résultats\n",
    "Convertissons les données en dataframe pour une lecture plus facile"
   ]
  },
  {
   "cell_type": "code",
   "execution_count": 30,
   "metadata": {},
   "outputs": [],
   "source": [
    "total_return = pd.DataFrame(total_return.items(),columns=['state', 'total_return'])"
   ]
  },
  {
   "cell_type": "code",
   "execution_count": 31,
   "metadata": {},
   "outputs": [],
   "source": [
    "N = pd.DataFrame(N.items(),columns=['state', 'N'])"
   ]
  },
  {
   "cell_type": "markdown",
   "metadata": {},
   "source": [
    "Merge des deux dataframes"
   ]
  },
  {
   "cell_type": "code",
   "execution_count": 32,
   "metadata": {},
   "outputs": [],
   "source": [
    "df = pd.merge(total_return, N, on=\"state\")"
   ]
  },
  {
   "cell_type": "markdown",
   "metadata": {},
   "source": [
    "Résultat : "
   ]
  },
  {
   "cell_type": "code",
   "execution_count": 33,
   "metadata": {},
   "outputs": [
    {
     "data": {
      "text/html": [
       "<div>\n",
       "<style scoped>\n",
       "    .dataframe tbody tr th:only-of-type {\n",
       "        vertical-align: middle;\n",
       "    }\n",
       "\n",
       "    .dataframe tbody tr th {\n",
       "        vertical-align: top;\n",
       "    }\n",
       "\n",
       "    .dataframe thead th {\n",
       "        text-align: right;\n",
       "    }\n",
       "</style>\n",
       "<table border=\"1\" class=\"dataframe\">\n",
       "  <thead>\n",
       "    <tr style=\"text-align: right;\">\n",
       "      <th></th>\n",
       "      <th>state</th>\n",
       "      <th>total_return</th>\n",
       "      <th>N</th>\n",
       "    </tr>\n",
       "  </thead>\n",
       "  <tbody>\n",
       "    <tr>\n",
       "      <th>0</th>\n",
       "      <td>(20, 10, 1)</td>\n",
       "      <td>364.00000</td>\n",
       "      <td>787</td>\n",
       "    </tr>\n",
       "    <tr>\n",
       "      <th>1</th>\n",
       "      <td>(18, 10, 0)</td>\n",
       "      <td>-3145.75000</td>\n",
       "      <td>4334</td>\n",
       "    </tr>\n",
       "    <tr>\n",
       "      <th>2</th>\n",
       "      <td>(14, 10, 0)</td>\n",
       "      <td>-2379.28690</td>\n",
       "      <td>3872</td>\n",
       "    </tr>\n",
       "    <tr>\n",
       "      <th>3</th>\n",
       "      <td>(20, 1, 1)</td>\n",
       "      <td>29.00000</td>\n",
       "      <td>196</td>\n",
       "    </tr>\n",
       "    <tr>\n",
       "      <th>4</th>\n",
       "      <td>(21, 10, 0)</td>\n",
       "      <td>2712.00000</td>\n",
       "      <td>3050</td>\n",
       "    </tr>\n",
       "    <tr>\n",
       "      <th>5</th>\n",
       "      <td>(15, 10, 0)</td>\n",
       "      <td>-2494.41190</td>\n",
       "      <td>3925</td>\n",
       "    </tr>\n",
       "    <tr>\n",
       "      <th>6</th>\n",
       "      <td>(12, 10, 0)</td>\n",
       "      <td>-2010.77500</td>\n",
       "      <td>3574</td>\n",
       "    </tr>\n",
       "    <tr>\n",
       "      <th>7</th>\n",
       "      <td>(14, 10, 1)</td>\n",
       "      <td>-110.15019</td>\n",
       "      <td>404</td>\n",
       "    </tr>\n",
       "    <tr>\n",
       "      <th>8</th>\n",
       "      <td>(12, 7, 0)</td>\n",
       "      <td>-460.69560</td>\n",
       "      <td>929</td>\n",
       "    </tr>\n",
       "    <tr>\n",
       "      <th>9</th>\n",
       "      <td>(21, 5, 1)</td>\n",
       "      <td>478.00000</td>\n",
       "      <td>489</td>\n",
       "    </tr>\n",
       "  </tbody>\n",
       "</table>\n",
       "</div>"
      ],
      "text/plain": [
       "         state  total_return     N\n",
       "0  (20, 10, 1)     364.00000   787\n",
       "1  (18, 10, 0)   -3145.75000  4334\n",
       "2  (14, 10, 0)   -2379.28690  3872\n",
       "3   (20, 1, 1)      29.00000   196\n",
       "4  (21, 10, 0)    2712.00000  3050\n",
       "5  (15, 10, 0)   -2494.41190  3925\n",
       "6  (12, 10, 0)   -2010.77500  3574\n",
       "7  (14, 10, 1)    -110.15019   404\n",
       "8   (12, 7, 0)    -460.69560   929\n",
       "9   (21, 5, 1)     478.00000   489"
      ]
     },
     "execution_count": 33,
     "metadata": {},
     "output_type": "execute_result"
    }
   ],
   "source": [
    "df.head(10)"
   ]
  },
  {
   "cell_type": "markdown",
   "metadata": {},
   "source": [
    "Calculons la fonction de valeur.\n",
    "A ce stade nous avons tous les éléments (cumul des G et nombre de passage N)"
   ]
  },
  {
   "cell_type": "code",
   "execution_count": 34,
   "metadata": {},
   "outputs": [],
   "source": [
    "df['value'] = df['total_return']/df['N']"
   ]
  },
  {
   "cell_type": "code",
   "execution_count": 36,
   "metadata": {},
   "outputs": [
    {
     "data": {
      "text/html": [
       "<div>\n",
       "<style scoped>\n",
       "    .dataframe tbody tr th:only-of-type {\n",
       "        vertical-align: middle;\n",
       "    }\n",
       "\n",
       "    .dataframe tbody tr th {\n",
       "        vertical-align: top;\n",
       "    }\n",
       "\n",
       "    .dataframe thead th {\n",
       "        text-align: right;\n",
       "    }\n",
       "</style>\n",
       "<table border=\"1\" class=\"dataframe\">\n",
       "  <thead>\n",
       "    <tr style=\"text-align: right;\">\n",
       "      <th></th>\n",
       "      <th>state</th>\n",
       "      <th>total_return</th>\n",
       "      <th>N</th>\n",
       "      <th>value</th>\n",
       "    </tr>\n",
       "  </thead>\n",
       "  <tbody>\n",
       "    <tr>\n",
       "      <th>0</th>\n",
       "      <td>(20, 10, 1)</td>\n",
       "      <td>364.00000</td>\n",
       "      <td>787</td>\n",
       "      <td>0.462516</td>\n",
       "    </tr>\n",
       "    <tr>\n",
       "      <th>1</th>\n",
       "      <td>(18, 10, 0)</td>\n",
       "      <td>-3145.75000</td>\n",
       "      <td>4334</td>\n",
       "      <td>-0.725831</td>\n",
       "    </tr>\n",
       "    <tr>\n",
       "      <th>2</th>\n",
       "      <td>(14, 10, 0)</td>\n",
       "      <td>-2379.28690</td>\n",
       "      <td>3872</td>\n",
       "      <td>-0.614485</td>\n",
       "    </tr>\n",
       "    <tr>\n",
       "      <th>3</th>\n",
       "      <td>(20, 1, 1)</td>\n",
       "      <td>29.00000</td>\n",
       "      <td>196</td>\n",
       "      <td>0.147959</td>\n",
       "    </tr>\n",
       "    <tr>\n",
       "      <th>4</th>\n",
       "      <td>(21, 10, 0)</td>\n",
       "      <td>2712.00000</td>\n",
       "      <td>3050</td>\n",
       "      <td>0.889180</td>\n",
       "    </tr>\n",
       "    <tr>\n",
       "      <th>5</th>\n",
       "      <td>(15, 10, 0)</td>\n",
       "      <td>-2494.41190</td>\n",
       "      <td>3925</td>\n",
       "      <td>-0.635519</td>\n",
       "    </tr>\n",
       "    <tr>\n",
       "      <th>6</th>\n",
       "      <td>(12, 10, 0)</td>\n",
       "      <td>-2010.77500</td>\n",
       "      <td>3574</td>\n",
       "      <td>-0.562612</td>\n",
       "    </tr>\n",
       "    <tr>\n",
       "      <th>7</th>\n",
       "      <td>(14, 10, 1)</td>\n",
       "      <td>-110.15019</td>\n",
       "      <td>404</td>\n",
       "      <td>-0.272649</td>\n",
       "    </tr>\n",
       "    <tr>\n",
       "      <th>8</th>\n",
       "      <td>(12, 7, 0)</td>\n",
       "      <td>-460.69560</td>\n",
       "      <td>929</td>\n",
       "      <td>-0.495905</td>\n",
       "    </tr>\n",
       "    <tr>\n",
       "      <th>9</th>\n",
       "      <td>(21, 5, 1)</td>\n",
       "      <td>478.00000</td>\n",
       "      <td>489</td>\n",
       "      <td>0.977505</td>\n",
       "    </tr>\n",
       "    <tr>\n",
       "      <th>10</th>\n",
       "      <td>(18, 5, 1)</td>\n",
       "      <td>-36.69300</td>\n",
       "      <td>137</td>\n",
       "      <td>-0.267832</td>\n",
       "    </tr>\n",
       "    <tr>\n",
       "      <th>11</th>\n",
       "      <td>(7, 5, 0)</td>\n",
       "      <td>-92.03850</td>\n",
       "      <td>202</td>\n",
       "      <td>-0.455636</td>\n",
       "    </tr>\n",
       "    <tr>\n",
       "      <th>12</th>\n",
       "      <td>(17, 2, 0)</td>\n",
       "      <td>-712.68100</td>\n",
       "      <td>1062</td>\n",
       "      <td>-0.671074</td>\n",
       "    </tr>\n",
       "    <tr>\n",
       "      <th>13</th>\n",
       "      <td>(20, 10, 0)</td>\n",
       "      <td>2810.00000</td>\n",
       "      <td>6064</td>\n",
       "      <td>0.463391</td>\n",
       "    </tr>\n",
       "    <tr>\n",
       "      <th>14</th>\n",
       "      <td>(19, 10, 0)</td>\n",
       "      <td>-3434.10000</td>\n",
       "      <td>4537</td>\n",
       "      <td>-0.756910</td>\n",
       "    </tr>\n",
       "    <tr>\n",
       "      <th>15</th>\n",
       "      <td>(16, 10, 0)</td>\n",
       "      <td>-2775.02800</td>\n",
       "      <td>4155</td>\n",
       "      <td>-0.667877</td>\n",
       "    </tr>\n",
       "    <tr>\n",
       "      <th>16</th>\n",
       "      <td>(20, 6, 0)</td>\n",
       "      <td>1049.00000</td>\n",
       "      <td>1516</td>\n",
       "      <td>0.691953</td>\n",
       "    </tr>\n",
       "    <tr>\n",
       "      <th>17</th>\n",
       "      <td>(20, 8, 0)</td>\n",
       "      <td>1165.00000</td>\n",
       "      <td>1465</td>\n",
       "      <td>0.795222</td>\n",
       "    </tr>\n",
       "    <tr>\n",
       "      <th>18</th>\n",
       "      <td>(19, 10, 1)</td>\n",
       "      <td>-228.14010</td>\n",
       "      <td>629</td>\n",
       "      <td>-0.362703</td>\n",
       "    </tr>\n",
       "    <tr>\n",
       "      <th>19</th>\n",
       "      <td>(17, 5, 0)</td>\n",
       "      <td>-660.68100</td>\n",
       "      <td>981</td>\n",
       "      <td>-0.673477</td>\n",
       "    </tr>\n",
       "  </tbody>\n",
       "</table>\n",
       "</div>"
      ],
      "text/plain": [
       "          state  total_return     N     value\n",
       "0   (20, 10, 1)     364.00000   787  0.462516\n",
       "1   (18, 10, 0)   -3145.75000  4334 -0.725831\n",
       "2   (14, 10, 0)   -2379.28690  3872 -0.614485\n",
       "3    (20, 1, 1)      29.00000   196  0.147959\n",
       "4   (21, 10, 0)    2712.00000  3050  0.889180\n",
       "5   (15, 10, 0)   -2494.41190  3925 -0.635519\n",
       "6   (12, 10, 0)   -2010.77500  3574 -0.562612\n",
       "7   (14, 10, 1)    -110.15019   404 -0.272649\n",
       "8    (12, 7, 0)    -460.69560   929 -0.495905\n",
       "9    (21, 5, 1)     478.00000   489  0.977505\n",
       "10   (18, 5, 1)     -36.69300   137 -0.267832\n",
       "11    (7, 5, 0)     -92.03850   202 -0.455636\n",
       "12   (17, 2, 0)    -712.68100  1062 -0.671074\n",
       "13  (20, 10, 0)    2810.00000  6064  0.463391\n",
       "14  (19, 10, 0)   -3434.10000  4537 -0.756910\n",
       "15  (16, 10, 0)   -2775.02800  4155 -0.667877\n",
       "16   (20, 6, 0)    1049.00000  1516  0.691953\n",
       "17   (20, 8, 0)    1165.00000  1465  0.795222\n",
       "18  (19, 10, 1)    -228.14010   629 -0.362703\n",
       "19   (17, 5, 0)    -660.68100   981 -0.673477"
      ]
     },
     "execution_count": 36,
     "metadata": {},
     "output_type": "execute_result"
    }
   ],
   "source": [
    "df.head(20)"
   ]
  },
  {
   "cell_type": "markdown",
   "metadata": {},
   "source": [
    "***\n",
    "## Analyse\n",
    "\n",
    "A ce stade nous pouvons apprécier la valeur de notre politique (seuil à 19).\n",
    "Exemple dans une situation ou nous avons 21 points, et par exemple le croupier 9 points \n",
    "\n"
   ]
  },
  {
   "cell_type": "code",
   "execution_count": 41,
   "metadata": {},
   "outputs": [
    {
     "data": {
      "text/plain": [
       "array([0.88918033])"
      ]
     },
     "execution_count": 41,
     "metadata": {},
     "output_type": "execute_result"
    }
   ],
   "source": [
    "# sans AS\n",
    "df[df['state']==(21,10,False)]['value'].values"
   ]
  },
  {
   "cell_type": "code",
   "execution_count": 42,
   "metadata": {},
   "outputs": [
    {
     "data": {
      "text/plain": [
       "array([0.90568119])"
      ]
     },
     "execution_count": 42,
     "metadata": {},
     "output_type": "execute_result"
    }
   ],
   "source": [
    "# avec AS\n",
    "df[df['state']==(21,10,True)]['value'].values"
   ]
  },
  {
   "cell_type": "markdown",
   "metadata": {},
   "source": [
    "La fonction de valeur est proche de 1. Donc efficiente.\n",
    "\n"
   ]
  },
  {
   "cell_type": "markdown",
   "metadata": {},
   "source": [
    "---\n",
    "Regardons maintenant dans un contexte plus difficile avec une main prochain de 19 (voir politique)"
   ]
  },
  {
   "cell_type": "code",
   "execution_count": 43,
   "metadata": {},
   "outputs": [
    {
     "data": {
      "text/plain": [
       "array([-0.77940905])"
      ]
     },
     "execution_count": 43,
     "metadata": {},
     "output_type": "execute_result"
    }
   ],
   "source": [
    "df[df['state']==(19,8,False)]['value'].values"
   ]
  },
  {
   "cell_type": "code",
   "execution_count": 44,
   "metadata": {},
   "outputs": [
    {
     "data": {
      "text/plain": [
       "array([-0.31996112])"
      ]
     },
     "execution_count": 44,
     "metadata": {},
     "output_type": "execute_result"
    }
   ],
   "source": [
    "df[df['state']==(19,8,True)]['value'].values"
   ]
  },
  {
   "cell_type": "markdown",
   "metadata": {},
   "source": [
    "La valeur est moindre car l'incertitude de la suite de la partie plus grande"
   ]
  },
  {
   "cell_type": "code",
   "execution_count": null,
   "metadata": {},
   "outputs": [],
   "source": []
  }
 ],
 "metadata": {
  "kernelspec": {
   "display_name": "Python 3 (ipykernel)",
   "language": "python",
   "name": "python3"
  },
  "language_info": {
   "codemirror_mode": {
    "name": "ipython",
    "version": 3
   },
   "file_extension": ".py",
   "mimetype": "text/x-python",
   "name": "python",
   "nbconvert_exporter": "python",
   "pygments_lexer": "ipython3",
   "version": "3.9.0"
  }
 },
 "nbformat": 4,
 "nbformat_minor": 4
}
