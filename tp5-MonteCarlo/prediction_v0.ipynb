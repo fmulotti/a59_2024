{
 "cells": [
  {
   "cell_type": "markdown",
   "metadata": {},
   "source": [
    "# First/Every-visit MC prediction \n"
   ]
  },
  {
   "cell_type": "markdown",
   "metadata": {},
   "source": [
    " \n",
    "(c) Fabrice Mulotti"
   ]
  },
  {
   "cell_type": "code",
   "execution_count": null,
   "metadata": {},
   "outputs": [],
   "source": [
    "import gymnasium as gym\n",
    "import pandas as pd\n",
    "from collections import defaultdict"
   ]
  },
  {
   "cell_type": "markdown",
   "metadata": {},
   "source": [
    "Create a blackjack environment:"
   ]
  },
  {
   "cell_type": "code",
   "execution_count": null,
   "metadata": {},
   "outputs": [],
   "source": [
    "env = gym.make('Blackjack-v1')"
   ]
  },
  {
   "cell_type": "markdown",
   "metadata": {},
   "source": [
    "## Définissons une politque\n",
    "\n",
    "state[0] renvoie le nombre de point du joueur.   \n",
    "\n",
    "L'action :      \n",
    "0 est standby   \n",
    "1 est hit (nouvelle carte)  "
   ]
  },
  {
   "cell_type": "code",
   "execution_count": null,
   "metadata": {},
   "outputs": [],
   "source": [
    "def policy(pstate):\n",
    "    # une ligne : définir une politique qui choisie l'action stand (0) si le joueur à 19 points ou moins, sinon hit (1)\n",
    "    # le nombre de points est à l'indice"
   ]
  },
  {
   "cell_type": "code",
   "execution_count": null,
   "metadata": {},
   "outputs": [],
   "source": [
    "# test !\n",
    "assert policy([19,0,0])==1"
   ]
  },
  {
   "cell_type": "code",
   "execution_count": null,
   "metadata": {},
   "outputs": [],
   "source": [
    "# test !\n",
    "assert policy([20,0,0])==0"
   ]
  },
  {
   "cell_type": "code",
   "execution_count": null,
   "metadata": {},
   "outputs": [],
   "source": [
    "## créons notre environnement\n",
    "state = env.reset()\n",
    "print(state)"
   ]
  },
  {
   "cell_type": "code",
   "execution_count": null,
   "metadata": {},
   "outputs": [],
   "source": [
    "print(policy(state[0]))"
   ]
  },
  {
   "cell_type": "markdown",
   "metadata": {},
   "source": [
    "***\n",
    "## Generatrice d'épisode\n",
    "Notre prochain fonction va nous permettre de générer des épisodes\n"
   ]
  },
  {
   "cell_type": "code",
   "execution_count": null,
   "metadata": {},
   "outputs": [],
   "source": [
    "def generate_episode(policy,max_turn):\n",
    "    \n",
    "    # Enregistrement des épisodes\n",
    "    episode = []\n",
    "    \n",
    "    # Remise à zéro env\n",
    "    ge_state = env.reset()[0]\n",
    "  \n",
    "    # déroulement de la partie\n",
    "    for i in range(max_turn):\n",
    "        # choix d'une action en fonction de notre police et l'étar\n",
    "        # 1 ligne\n",
    "        \n",
    "        # on joue notre action en on récupère les résultats\n",
    "        ge_next_state, reward, done, truncated, info = # execution\n",
    "        \n",
    "        # enregistrement\n",
    "        episode.append((ge_state, action, reward))\n",
    "        \n",
    "        # Condition de fin ?\n",
    "        if done or truncated:\n",
    "            break\n",
    "\n",
    "        # sinon la partie continue\n",
    "        ge_state = ge_next_state\n",
    "\n",
    "    return episode"
   ]
  },
  {
   "cell_type": "code",
   "execution_count": null,
   "metadata": {},
   "outputs": [],
   "source": [
    "# Devrait produit une partie\n",
    "generate_episode(policy,100)"
   ]
  },
  {
   "cell_type": "markdown",
   "metadata": {},
   "source": [
    "***\n",
    "## Calcul de la fonction de valeur\n",
    "\n",
    "Nous allons devoir générer un grand nombre d'épisode et ajuster la `valeur moyenne de v` à chaque passage sur un état s\n",
    "\n",
    " "
   ]
  },
  {
   "cell_type": "code",
   "execution_count": null,
   "metadata": {},
   "outputs": [],
   "source": [
    "# total_return = fonction de valeur pour chaque état\n",
    "total_return = defaultdict(float)\n",
    "\n",
    "# N nombre de passage sur chaque état\n",
    "N = defaultdict(int)"
   ]
  },
  {
   "cell_type": "code",
   "execution_count": null,
   "metadata": {},
   "outputs": [],
   "source": [
    "# Nombre d'itération\n",
    "num_iterations = 50000\n",
    "gamma=0.90"
   ]
  },
  {
   "cell_type": "code",
   "execution_count": null,
   "metadata": {},
   "outputs": [],
   "source": [
    "for i in range(num_iterations):\n",
    "    \n",
    "    # générons un épisode\n",
    "    # générer un episode et sauvegarder dans la variable 'episode'\n",
    "\n",
    "    # stockons l'état, action et récompense obtenue / zip permet de prendre chaque 1, 2eme, 3eme.. terme\n",
    "    states, actions, rewards = zip(*episode)\n",
    "    # pour chaque état rencontré dans l'épisode\n",
    "\n",
    "    # calculer pour chaque état traversé, le gain G de l'état et mettre à jour les variables total_return[s] et N[s]\n",
    "    R=0\n",
    "    for t in range(len(states)-1,-1,-1):\n",
    "        # 4-6 lignes\n",
    "            "
   ]
  },
  {
   "cell_type": "markdown",
   "metadata": {},
   "source": [
    "***\n",
    "## Analysons nos résultats\n",
    "Convertissons les données en dataframe pour une lecture plus facile"
   ]
  },
  {
   "cell_type": "code",
   "execution_count": null,
   "metadata": {},
   "outputs": [],
   "source": [
    "total_return = pd.DataFrame(total_return.items(),columns=['state', 'total_return'])"
   ]
  },
  {
   "cell_type": "code",
   "execution_count": null,
   "metadata": {},
   "outputs": [],
   "source": [
    "N = pd.DataFrame(N.items(),columns=['state', 'N'])"
   ]
  },
  {
   "cell_type": "markdown",
   "metadata": {},
   "source": [
    "Merge des deux dataframe"
   ]
  },
  {
   "cell_type": "code",
   "execution_count": null,
   "metadata": {},
   "outputs": [],
   "source": [
    "df = pd.merge(total_return, N, on=\"state\")"
   ]
  },
  {
   "cell_type": "markdown",
   "metadata": {},
   "source": [
    "Résultat : "
   ]
  },
  {
   "cell_type": "code",
   "execution_count": null,
   "metadata": {},
   "outputs": [],
   "source": [
    "df.head(10)"
   ]
  },
  {
   "cell_type": "markdown",
   "metadata": {},
   "source": [
    "Calculons la fonction de valeur.\n",
    "A ce stade nous avons tous les éléments (cumul des G et nombre de passage N)"
   ]
  },
  {
   "cell_type": "code",
   "execution_count": null,
   "metadata": {},
   "outputs": [],
   "source": [
    "df['value'] = df['total_return']/df['N']"
   ]
  },
  {
   "cell_type": "code",
   "execution_count": null,
   "metadata": {},
   "outputs": [],
   "source": [
    "df.head(20)"
   ]
  },
  {
   "cell_type": "markdown",
   "metadata": {},
   "source": [
    "***\n",
    "## Analyse\n",
    "\n",
    "A ce stade nous pouvons apprécier la valeur de notre politique (seuil à 19).<br>\n",
    "Exemple dans une situation ou nous avons 21 points.\n",
    "\n"
   ]
  },
  {
   "cell_type": "code",
   "execution_count": null,
   "metadata": {},
   "outputs": [],
   "source": [
    "# sans AS\n",
    "df[df['state']==(21,10,False)]['value'].values"
   ]
  },
  {
   "cell_type": "code",
   "execution_count": null,
   "metadata": {},
   "outputs": [],
   "source": [
    "# avec AS\n",
    "df[df['state']==(21,10,True)]['value'].values"
   ]
  },
  {
   "cell_type": "markdown",
   "metadata": {},
   "source": [
    "La fonction de valeur est proche de 1. Donc efficiente.\n",
    "\n"
   ]
  },
  {
   "cell_type": "markdown",
   "metadata": {},
   "source": [
    "---\n",
    "Regardons maintenant dans un contexte plus difficile avec une main prochain de 19 (voir politique)"
   ]
  },
  {
   "cell_type": "code",
   "execution_count": null,
   "metadata": {},
   "outputs": [],
   "source": [
    "df[df['state']==(19,8,False)]['value'].values"
   ]
  },
  {
   "cell_type": "code",
   "execution_count": null,
   "metadata": {},
   "outputs": [],
   "source": [
    "df[df['state']==(19,8,True)]['value'].values"
   ]
  },
  {
   "cell_type": "markdown",
   "metadata": {},
   "source": [
    "La valeur est moindre car l'incertitude de la suite de la partie plus grande"
   ]
  }
 ],
 "metadata": {
  "kernelspec": {
   "display_name": "Python 3 (ipykernel)",
   "language": "python",
   "name": "python3"
  },
  "language_info": {
   "codemirror_mode": {
    "name": "ipython",
    "version": 3
   },
   "file_extension": ".py",
   "mimetype": "text/x-python",
   "name": "python",
   "nbconvert_exporter": "python",
   "pygments_lexer": "ipython3",
   "version": "3.9.0"
  }
 },
 "nbformat": 4,
 "nbformat_minor": 4
}
