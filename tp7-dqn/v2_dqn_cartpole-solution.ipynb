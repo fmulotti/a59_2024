{
 "cells": [
  {
   "cell_type": "markdown",
   "id": "de6f9cc4-46f6-47c8-8680-e3982fee4474",
   "metadata": {
    "tags": []
   },
   "source": [
    "# DQN \n",
    "## Cartpole\n",
    "\n",
    "Fabrice Mulotti\n",
    "\n",
    "v2.1 -résolu en 500 cycles environ"
   ]
  },
  {
   "cell_type": "code",
   "execution_count": 1,
   "id": "74ddb3de-19da-4e49-a52e-2e7bd972f225",
   "metadata": {},
   "outputs": [
    {
     "name": "stderr",
     "output_type": "stream",
     "text": [
      "2024-10-24 15:02:58.555347: I tensorflow/core/util/port.cc:153] oneDNN custom operations are on. You may see slightly different numerical results due to floating-point round-off errors from different computation orders. To turn them off, set the environment variable `TF_ENABLE_ONEDNN_OPTS=0`.\n",
      "2024-10-24 15:02:58.555687: I external/local_xla/xla/tsl/cuda/cudart_stub.cc:32] Could not find cuda drivers on your machine, GPU will not be used.\n",
      "2024-10-24 15:02:58.557591: I external/local_xla/xla/tsl/cuda/cudart_stub.cc:32] Could not find cuda drivers on your machine, GPU will not be used.\n",
      "2024-10-24 15:02:58.563009: E external/local_xla/xla/stream_executor/cuda/cuda_fft.cc:485] Unable to register cuFFT factory: Attempting to register factory for plugin cuFFT when one has already been registered\n",
      "2024-10-24 15:02:58.571677: E external/local_xla/xla/stream_executor/cuda/cuda_dnn.cc:8454] Unable to register cuDNN factory: Attempting to register factory for plugin cuDNN when one has already been registered\n",
      "2024-10-24 15:02:58.574290: E external/local_xla/xla/stream_executor/cuda/cuda_blas.cc:1452] Unable to register cuBLAS factory: Attempting to register factory for plugin cuBLAS when one has already been registered\n",
      "2024-10-24 15:02:58.581040: I tensorflow/core/platform/cpu_feature_guard.cc:210] This TensorFlow binary is optimized to use available CPU instructions in performance-critical operations.\n",
      "To enable the following instructions: AVX2 AVX_VNNI FMA, in other operations, rebuild TensorFlow with the appropriate compiler flags.\n",
      "2024-10-24 15:02:59.012767: W tensorflow/compiler/tf2tensorrt/utils/py_utils.cc:38] TF-TRT Warning: Could not find TensorRT\n"
     ]
    },
    {
     "name": "stdout",
     "output_type": "stream",
     "text": [
      "2.17.0\n"
     ]
    }
   ],
   "source": [
    "import numpy as np\n",
    "import gymnasium as gym\n",
    "from collections import deque\n",
    "import random\n",
    "\n",
    "import tensorflow as tf\n",
    "print(tf.__version__)\n",
    "\n",
    "from keras.models import Sequential\n",
    "from keras.layers import Dense, Activation, Flatten , Input\n",
    "from keras.optimizers import Adam # si vous utilisz un mac M1/M2, sinon le legacy n'est pas nécessaire\n",
    "# from keras.optimizers import  Adam # si vous utilisz un mac, sinon le legacy n'est pas nécessaire\n",
    "\n",
    "# from IPython.display import display, clear_output\n",
    "import matplotlib.pyplot as plt\n",
    "\n",
    "# %matplotlib inline"
   ]
  },
  {
   "cell_type": "markdown",
   "id": "10a7419a-fda1-4a7d-9bdb-03f193d88644",
   "metadata": {},
   "source": [
    "---\n",
    "## Définition de l'environnement"
   ]
  },
  {
   "cell_type": "code",
   "execution_count": 2,
   "id": "97eede1d-4dd6-498f-b2c3-2ea15a288abf",
   "metadata": {},
   "outputs": [
    {
     "name": "stdout",
     "output_type": "stream",
     "text": [
      "Nombre d actions : 2, Dimension de l env : 4\n"
     ]
    }
   ],
   "source": [
    "ENV_NAME = 'CartPole-v1'\n",
    "\n",
    "env = gym.make(ENV_NAME)\n",
    "np.random.seed(100)\n",
    "env.reset(seed=100)\n",
    "nb_actions = env.action_space.n # Nombre d'action\n",
    "nb_obs = env.observation_space.shape[0] # nombre de paramètre pour décrire l'environnement\n",
    "print(f\"Nombre d actions : {nb_actions}, Dimension de l env : {nb_obs}\")"
   ]
  },
  {
   "cell_type": "markdown",
   "id": "dc064f29-c6b1-456b-86eb-4d43106ae655",
   "metadata": {},
   "source": [
    "# Remarques sur l'environnement\n",
    "\n",
    "2 actions possibles :<br>\n",
    "    poussée vers la gauche<br>\n",
    "    poussée vers la droite<br>\n",
    "    \n",
    "Observation :<br>\n",
    "    Valeurs **continues** !"
   ]
  },
  {
   "cell_type": "markdown",
   "id": "f3134929-d0c4-4539-a04c-1880f5092a5d",
   "metadata": {},
   "source": [
    "## Fonctions utiles"
   ]
  },
  {
   "cell_type": "code",
   "execution_count": 3,
   "id": "27478b51-e6ad-472d-b60a-cdb2b9313de7",
   "metadata": {},
   "outputs": [],
   "source": [
    "# Classe pour notre algorithme DQN\n",
    "class DQN:\n",
    "    def __init__(self, obs_size, action_size, gamma, learning_rate):\n",
    "        # Objet : initialisation de la classe\n",
    "        # Paramètres en entrée\n",
    "        #     Nombre de paramètre pour décrire l'état\n",
    "        #     Nombre d'actions\n",
    "        #.    Paramètre gamma : dépréciation futur\n",
    "        #     learning rate\n",
    "        \n",
    "        # dimension des états\n",
    "        self.obs_size = obs_size\n",
    "        \n",
    "        # nombre d'actions\n",
    "        self.action_size = action_size\n",
    "        \n",
    "        # gamma : dépréciation du futur\n",
    "        self.gamma = gamma\n",
    "        \n",
    "        # learning rate\n",
    "        self.learning_rate = learning_rate\n",
    "        \n",
    "        # autres paramètres\n",
    "        self.update_freq = 100 # fréquence de copie des poids (1000)\n",
    "        \n",
    "        # autres structures\n",
    "        self.replay_buffer = deque(maxlen=100000) # enregistrements des résultats\n",
    "        \n",
    "        # Modèle de réseaux de neurones\n",
    "        self.main_network = self.build_model(16,8)\n",
    "        self.target_network = self.build_model(16,8)\n",
    "        # recopie des poids pour avoir des réseaux à l'identique\n",
    "        self.target_network.set_weights(self.main_network.get_weights())\n",
    "        \n",
    "        self.debug = 0\n",
    "        \n",
    "    def build_model(self,layer1,layer2):\n",
    "        # input : size of the 2 layers\n",
    "        # output : model of neural network\n",
    "        model = Sequential()\n",
    "        model.add(Input(shape=(self.obs_size,)))\n",
    "        model.add(Dense(layer1,activation='relu'))\n",
    "        model.add(Dense(layer2,activation='relu'))\n",
    "        model.add(Dense(self.action_size))\n",
    "        model.add(Activation('linear'))\n",
    "        model.compile(loss='mse',optimizer=Adam(learning_rate=self.learning_rate),jit_compile=True)\n",
    "        return model\n",
    "\n",
    "    def store_transition(self,state,action,reward,next_state,done):\n",
    "        # input : \n",
    "        # output : nothing\n",
    "        self.replay_buffer.append((state,action,reward,next_state,done))\n",
    "      \n",
    "    # @tf.function\n",
    "    def mainPredict(self,state):\n",
    "        actions = self.main_network.predict(state,verbose=0)\n",
    "        return actions\n",
    "        \n",
    "    def policy(self, state, epsilon):\n",
    "        # Policy : return action regarding the state according to the policy\n",
    "        r = np.random.uniform()\n",
    "        if r < epsilon:\n",
    "            action = np.random.randint(self.action_size)\n",
    "        else:\n",
    "            actions=self.mainPredict(state)\n",
    "            action = np.argmax(actions[0])\n",
    " \n",
    "        return action\n",
    "    \n",
    "    # sous fonction entrainement graph\n",
    "    @tf.function\n",
    "    def _train_step(self, states, Q_values):    \n",
    "            self.main_network.fit(states,Q_values,epochs=1,verbose=0)\n",
    "            \n",
    "    def debugP(self,message):\n",
    "        if self.debug:\n",
    "            print(message)\n",
    "            \n",
    "    def train_model(self,batch_size):\n",
    "        self.debug=0\n",
    "        # sélection d'un échantillon\n",
    "        minibatch = random.sample(self.replay_buffer,batch_size)\n",
    "        states, actions, rewards, next_states, dones = map(np.array, zip(*minibatch))\n",
    "\n",
    "        states=states.squeeze()\n",
    "        next_states=next_states.squeeze()\n",
    "        \n",
    "        self.debugP(f\"states shape {states.shape}\")\n",
    "\n",
    "        # On récupere les Q values des états rencontrés\n",
    "        Q_values = self.main_network.predict(states,verbose = 0)\n",
    "        self.debugP(f\"Q_values shape {Q_values.shape}\")\n",
    "        \n",
    "        Updates = rewards + self.gamma * np.amax(self.target_network.predict(next_states,verbose=0),axis=1) * (1-dones)\n",
    "        self.debugP(f\"Update {Updates.shape}\")\n",
    "        \n",
    "        Q_values[ np.arange(len(Updates)),actions] = Updates\n",
    "        \n",
    "        self._train_step(states, Q_values)\n",
    "        \n",
    "    \n",
    "    def update_weights(self):\n",
    "        self.target_network.set_weights(self.main_network.get_weights())\n",
    "        "
   ]
  },
  {
   "cell_type": "code",
   "execution_count": 4,
   "id": "f92ff9dc-3ba9-4ee4-80eb-37f999105bf8",
   "metadata": {},
   "outputs": [],
   "source": [
    "# transformation des données pour compatabilité avec l'alimentation du réseau de neurones (1,s)`\n",
    "def trans_state(s):\n",
    "    return  np.reshape(s, [1, nb_obs])"
   ]
  },
  {
   "cell_type": "code",
   "execution_count": 9,
   "id": "40544b87-cea1-49c8-b7aa-caecff66e480",
   "metadata": {},
   "outputs": [],
   "source": [
    "num_episodes = 1000\n",
    "batch_size = 16\n",
    "gamma=0.99 \n",
    "\n",
    "# variation du epsilon de notre politique e-greedy\n",
    "epsilon_max=1.00\n",
    "epsilon_min=0.10\n",
    "epsilon_decay=0.992 \n",
    "\n",
    "learning_rate=0.005"
   ]
  },
  {
   "cell_type": "code",
   "execution_count": 10,
   "id": "b7a6730c-1bc9-4f15-932f-1a6da59271fb",
   "metadata": {},
   "outputs": [],
   "source": [
    "dqn = DQN(env.observation_space.shape[0],env.action_space.n,gamma,learning_rate)"
   ]
  },
  {
   "cell_type": "code",
   "execution_count": 11,
   "id": "42bdfe4d-af45-451f-9d3b-7722f880429a",
   "metadata": {},
   "outputs": [
    {
     "name": "stdout",
     "output_type": "stream",
     "text": [
      "Eager ? True\n"
     ]
    }
   ],
   "source": [
    "print(f\"Eager ? {tf.executing_eagerly()}\")\n",
    "tf.config.optimizer.set_jit(True)"
   ]
  },
  {
   "cell_type": "code",
   "execution_count": 12,
   "id": "4f7a5c03-286a-47d9-8361-3136ca70777f",
   "metadata": {
    "tags": []
   },
   "outputs": [
    {
     "name": "stdout",
     "output_type": "stream",
     "text": [
      "Episode:  0 ,Return 18.0 , epsilon  1.0 , end= False\n",
      "Episode:  1 ,Return 16.0 , epsilon  0.99 , end= False\n",
      "Episode:  2 ,Return 28.0 , epsilon  0.98 , end= False\n",
      "Episode:  3 ,Return 18.0 , epsilon  0.98 , end= False\n",
      "Episode:  4 ,Return 19.0 , epsilon  0.97 , end= False\n",
      "Episode:  5 ,Return 16.0 , epsilon  0.96 , end= False\n",
      "Episode:  6 ,Return 42.0 , epsilon  0.95 , end= False\n",
      "Episode:  7 ,Return 10.0 , epsilon  0.95 , end= False\n",
      "Episode:  8 ,Return 13.0 , epsilon  0.94 , end= False\n",
      "Episode:  9 ,Return 23.0 , epsilon  0.93 , end= False\n",
      "Episode:  10 ,Return 14.0 , epsilon  0.92 , end= False\n",
      "Episode:  11 ,Return 33.0 , epsilon  0.92 , end= False\n",
      "Episode:  12 ,Return 56.0 , epsilon  0.91 , end= False\n",
      "Episode:  13 ,Return 11.0 , epsilon  0.9 , end= False\n",
      "Episode:  14 ,Return 28.0 , epsilon  0.89 , end= False\n",
      "Episode:  15 ,Return 21.0 , epsilon  0.89 , end= False\n",
      "Episode:  16 ,Return 18.0 , epsilon  0.88 , end= False\n",
      "Episode:  17 ,Return 19.0 , epsilon  0.87 , end= False\n",
      "Episode:  18 ,Return 18.0 , epsilon  0.87 , end= False\n",
      "Episode:  19 ,Return 15.0 , epsilon  0.86 , end= False\n",
      "Episode:  20 ,Return 33.0 , epsilon  0.85 , end= False\n",
      "Episode:  21 ,Return 24.0 , epsilon  0.84 , end= False\n",
      "Episode:  22 ,Return 25.0 , epsilon  0.84 , end= False\n",
      "Episode:  23 ,Return 40.0 , epsilon  0.83 , end= False\n",
      "Episode:  24 ,Return 22.0 , epsilon  0.82 , end= False\n",
      "Episode:  25 ,Return 30.0 , epsilon  0.82 , end= False\n",
      "Episode:  26 ,Return 13.0 , epsilon  0.81 , end= False\n",
      "Episode:  27 ,Return 39.0 , epsilon  0.81 , end= False\n",
      "Episode:  28 ,Return 26.0 , epsilon  0.8 , end= False\n",
      "Episode:  29 ,Return 45.0 , epsilon  0.79 , end= False\n",
      "Episode:  30 ,Return 41.0 , epsilon  0.79 , end= False\n",
      "Episode:  31 ,Return 18.0 , epsilon  0.78 , end= False\n",
      "Episode:  32 ,Return 27.0 , epsilon  0.77 , end= False\n",
      "Episode:  33 ,Return 17.0 , epsilon  0.77 , end= False\n",
      "Episode:  34 ,Return 15.0 , epsilon  0.76 , end= False\n",
      "Episode:  35 ,Return 44.0 , epsilon  0.75 , end= False\n",
      "Episode:  36 ,Return 27.0 , epsilon  0.75 , end= False\n",
      "Episode:  37 ,Return 62.0 , epsilon  0.74 , end= False\n",
      "Episode:  38 ,Return 52.0 , epsilon  0.74 , end= False\n",
      "Episode:  39 ,Return 51.0 , epsilon  0.73 , end= False\n",
      "Episode:  40 ,Return 34.0 , epsilon  0.73 , end= False\n",
      "Episode:  41 ,Return 55.0 , epsilon  0.72 , end= False\n",
      "Episode:  42 ,Return 16.0 , epsilon  0.71 , end= False\n",
      "Episode:  43 ,Return 9.0 , epsilon  0.71 , end= False\n",
      "Episode:  44 ,Return 12.0 , epsilon  0.7 , end= False\n",
      "Episode:  45 ,Return 81.0 , epsilon  0.7 , end= False\n",
      "Episode:  46 ,Return 106.0 , epsilon  0.69 , end= False\n",
      "Episode:  47 ,Return 31.0 , epsilon  0.69 , end= False\n",
      "Episode:  48 ,Return 83.0 , epsilon  0.68 , end= False\n",
      "Episode:  49 ,Return 98.0 , epsilon  0.67 , end= False\n",
      "Episode:  50 ,Return 69.0 , epsilon  0.67 , end= False\n",
      "Episode:  51 ,Return 42.0 , epsilon  0.66 , end= False\n",
      "Episode:  52 ,Return 40.0 , epsilon  0.66 , end= False\n",
      "Episode:  53 ,Return 18.0 , epsilon  0.65 , end= False\n",
      "Episode:  54 ,Return 48.0 , epsilon  0.65 , end= False\n",
      "Episode:  55 ,Return 70.0 , epsilon  0.64 , end= False\n",
      "Episode:  56 ,Return 82.0 , epsilon  0.64 , end= False\n",
      "Episode:  57 ,Return 64.0 , epsilon  0.63 , end= False\n",
      "Episode:  58 ,Return 95.0 , epsilon  0.63 , end= False\n",
      "Episode:  59 ,Return 42.0 , epsilon  0.62 , end= False\n",
      "Episode:  60 ,Return 147.0 , epsilon  0.62 , end= False\n",
      "Episode:  61 ,Return 65.0 , epsilon  0.61 , end= False\n",
      "Episode:  62 ,Return 118.0 , epsilon  0.61 , end= False\n",
      "Episode:  63 ,Return 37.0 , epsilon  0.6 , end= False\n",
      "Episode:  64 ,Return 143.0 , epsilon  0.6 , end= False\n",
      "Episode:  65 ,Return 167.0 , epsilon  0.59 , end= False\n",
      "Episode:  66 ,Return 95.0 , epsilon  0.59 , end= False\n",
      "Episode:  67 ,Return 174.0 , epsilon  0.58 , end= False\n",
      "Episode:  68 ,Return 23.0 , epsilon  0.58 , end= False\n",
      "Episode:  69 ,Return 206.0 , epsilon  0.57 , end= False\n",
      "Episode:  70 ,Return 19.0 , epsilon  0.57 , end= False\n",
      "Episode:  71 ,Return 57.0 , epsilon  0.57 , end= False\n",
      "Episode:  72 ,Return 99.0 , epsilon  0.56 , end= False\n",
      "Episode:  73 ,Return 311.0 , epsilon  0.56 , end= False\n",
      "Episode:  74 ,Return 16.0 , epsilon  0.55 , end= False\n",
      "Episode:  75 ,Return 11.0 , epsilon  0.55 , end= False\n",
      "Episode:  76 ,Return 93.0 , epsilon  0.54 , end= False\n",
      "Episode:  77 ,Return 113.0 , epsilon  0.54 , end= False\n",
      "Episode:  78 ,Return 113.0 , epsilon  0.53 , end= False\n",
      "Episode:  79 ,Return 26.0 , epsilon  0.53 , end= False\n",
      "Episode:  80 ,Return 144.0 , epsilon  0.53 , end= False\n",
      "Episode:  81 ,Return 64.0 , epsilon  0.52 , end= False\n",
      "Episode:  82 ,Return 104.0 , epsilon  0.52 , end= False\n",
      "Episode:  83 ,Return 116.0 , epsilon  0.51 , end= False\n",
      "Episode:  84 ,Return 185.0 , epsilon  0.51 , end= False\n",
      "Episode:  85 ,Return 29.0 , epsilon  0.51 , end= False\n",
      "Episode:  86 ,Return 212.0 , epsilon  0.5 , end= False\n",
      "Episode:  87 ,Return 169.0 , epsilon  0.5 , end= False\n",
      "Episode:  88 ,Return 38.0 , epsilon  0.49 , end= False\n",
      "Episode:  89 ,Return 134.0 , epsilon  0.49 , end= False\n",
      "Episode:  90 ,Return 51.0 , epsilon  0.49 , end= False\n",
      "Episode:  91 ,Return 129.0 , epsilon  0.48 , end= False\n",
      "Episode:  92 ,Return 23.0 , epsilon  0.48 , end= False\n",
      "Episode:  93 ,Return 18.0 , epsilon  0.47 , end= False\n",
      "Episode:  94 ,Return 120.0 , epsilon  0.47 , end= False\n",
      "Episode:  95 ,Return 110.0 , epsilon  0.47 , end= False\n",
      "Episode:  96 ,Return 164.0 , epsilon  0.46 , end= False\n",
      "Episode:  97 ,Return 145.0 , epsilon  0.46 , end= False\n",
      "Episode:  98 ,Return 148.0 , epsilon  0.46 , end= False\n",
      "Episode:  99 ,Return 64.0 , epsilon  0.45 , end= False\n",
      "Episode:  100 ,Return 108.0 , epsilon  0.45 , end= False\n",
      "Episode:  101 ,Return 142.0 , epsilon  0.44 , end= False\n",
      "Episode:  102 ,Return 69.0 , epsilon  0.44 , end= False\n",
      "Episode:  103 ,Return 21.0 , epsilon  0.44 , end= False\n",
      "Episode:  104 ,Return 132.0 , epsilon  0.43 , end= False\n",
      "Episode:  105 ,Return 200.0 , epsilon  0.43 , end= False\n",
      "Episode:  106 ,Return 163.0 , epsilon  0.43 , end= False\n",
      "Episode:  107 ,Return 183.0 , epsilon  0.42 , end= False\n",
      "Episode:  108 ,Return 247.0 , epsilon  0.42 , end= False\n",
      "Episode:  109 ,Return 167.0 , epsilon  0.42 , end= False\n",
      "Episode:  110 ,Return 382.0 , epsilon  0.41 , end= False\n",
      "Episode:  111 ,Return 157.0 , epsilon  0.41 , end= False\n",
      "Episode:  112 ,Return 71.0 , epsilon  0.41 , end= False\n",
      "Episode:  113 ,Return 39.0 , epsilon  0.4 , end= False\n",
      "Episode:  114 ,Return 142.0 , epsilon  0.4 , end= False\n",
      "Episode:  115 ,Return 145.0 , epsilon  0.4 , end= False\n",
      "Episode:  116 ,Return 110.0 , epsilon  0.39 , end= False\n",
      "Episode:  117 ,Return 142.0 , epsilon  0.39 , end= False\n",
      "Episode:  118 ,Return 140.0 , epsilon  0.39 , end= False\n",
      "Episode:  119 ,Return 147.0 , epsilon  0.38 , end= False\n",
      "Episode:  120 ,Return 14.0 , epsilon  0.38 , end= False\n",
      "Episode:  121 ,Return 144.0 , epsilon  0.38 , end= False\n",
      "Episode:  122 ,Return 156.0 , epsilon  0.38 , end= False\n",
      "Episode:  123 ,Return 133.0 , epsilon  0.37 , end= False\n",
      "Episode:  124 ,Return 28.0 , epsilon  0.37 , end= False\n",
      "Episode:  125 ,Return 290.0 , epsilon  0.37 , end= False\n",
      "Episode:  126 ,Return 76.0 , epsilon  0.36 , end= False\n",
      "Episode:  127 ,Return 142.0 , epsilon  0.36 , end= False\n",
      "Episode:  128 ,Return 13.0 , epsilon  0.36 , end= False\n",
      "Episode:  129 ,Return 92.0 , epsilon  0.35 , end= False\n",
      "Episode:  130 ,Return 76.0 , epsilon  0.35 , end= False\n",
      "Episode:  131 ,Return 167.0 , epsilon  0.35 , end= False\n",
      "Episode:  132 ,Return 301.0 , epsilon  0.35 , end= False\n",
      "Episode:  133 ,Return 23.0 , epsilon  0.34 , end= False\n",
      "Episode:  134 ,Return 127.0 , epsilon  0.34 , end= False\n",
      "Episode:  135 ,Return 159.0 , epsilon  0.34 , end= False\n",
      "Episode:  136 ,Return 70.0 , epsilon  0.34 , end= False\n",
      "Episode:  137 ,Return 143.0 , epsilon  0.33 , end= False\n",
      "Episode:  138 ,Return 142.0 , epsilon  0.33 , end= False\n",
      "Episode:  139 ,Return 177.0 , epsilon  0.33 , end= False\n",
      "Episode:  140 ,Return 39.0 , epsilon  0.32 , end= False\n",
      "Episode:  141 ,Return 174.0 , epsilon  0.32 , end= False\n",
      "Episode:  142 ,Return 181.0 , epsilon  0.32 , end= False\n",
      "Episode:  143 ,Return 167.0 , epsilon  0.32 , end= False\n",
      "Episode:  144 ,Return 216.0 , epsilon  0.31 , end= False\n",
      "Episode:  145 ,Return 58.0 , epsilon  0.31 , end= False\n",
      "Episode:  146 ,Return 108.0 , epsilon  0.31 , end= False\n",
      "Episode:  147 ,Return 184.0 , epsilon  0.31 , end= False\n",
      "Episode:  148 ,Return 111.0 , epsilon  0.3 , end= False\n",
      "Episode:  149 ,Return 144.0 , epsilon  0.3 , end= False\n",
      "Episode:  150 ,Return 163.0 , epsilon  0.3 , end= False\n",
      "Episode:  151 ,Return 248.0 , epsilon  0.3 , end= False\n",
      "Episode:  152 ,Return 270.0 , epsilon  0.29 , end= False\n",
      "Episode:  153 ,Return 264.0 , epsilon  0.29 , end= False\n",
      "Episode:  154 ,Return 168.0 , epsilon  0.29 , end= False\n",
      "Episode:  155 ,Return 167.0 , epsilon  0.29 , end= False\n",
      "Episode:  156 ,Return 190.0 , epsilon  0.29 , end= False\n",
      "Episode:  157 ,Return 111.0 , epsilon  0.28 , end= False\n",
      "Episode:  158 ,Return 126.0 , epsilon  0.28 , end= False\n",
      "Episode:  159 ,Return 124.0 , epsilon  0.28 , end= False\n",
      "Episode:  160 ,Return 127.0 , epsilon  0.28 , end= False\n",
      "Episode:  161 ,Return 114.0 , epsilon  0.27 , end= False\n",
      "Episode:  162 ,Return 68.0 , epsilon  0.27 , end= False\n",
      "Episode:  163 ,Return 108.0 , epsilon  0.27 , end= False\n",
      "Episode:  164 ,Return 163.0 , epsilon  0.27 , end= False\n",
      "Episode:  165 ,Return 194.0 , epsilon  0.27 , end= False\n",
      "Episode:  166 ,Return 224.0 , epsilon  0.26 , end= False\n",
      "Episode:  167 ,Return 183.0 , epsilon  0.26 , end= False\n",
      "Episode:  168 ,Return 164.0 , epsilon  0.26 , end= False\n",
      "Episode:  169 ,Return 87.0 , epsilon  0.26 , end= False\n",
      "Episode:  170 ,Return 132.0 , epsilon  0.26 , end= False\n",
      "Episode:  171 ,Return 125.0 , epsilon  0.25 , end= False\n",
      "Episode:  172 ,Return 148.0 , epsilon  0.25 , end= False\n",
      "Episode:  173 ,Return 228.0 , epsilon  0.25 , end= False\n",
      "Episode:  174 ,Return 164.0 , epsilon  0.25 , end= False\n",
      "Episode:  175 ,Return 133.0 , epsilon  0.25 , end= False\n",
      "Episode:  176 ,Return 237.0 , epsilon  0.24 , end= False\n",
      "Episode:  177 ,Return 244.0 , epsilon  0.24 , end= False\n",
      "Episode:  178 ,Return 247.0 , epsilon  0.24 , end= False\n",
      "Episode:  179 ,Return 199.0 , epsilon  0.24 , end= False\n",
      "Episode:  180 ,Return 169.0 , epsilon  0.24 , end= False\n",
      "Episode:  181 ,Return 170.0 , epsilon  0.23 , end= False\n",
      "Episode:  182 ,Return 191.0 , epsilon  0.23 , end= False\n",
      "Episode:  183 ,Return 202.0 , epsilon  0.23 , end= False\n",
      "Episode:  184 ,Return 149.0 , epsilon  0.23 , end= False\n",
      "Episode:  185 ,Return 177.0 , epsilon  0.23 , end= False\n",
      "Episode:  186 ,Return 147.0 , epsilon  0.22 , end= False\n",
      "Episode:  187 ,Return 12.0 , epsilon  0.22 , end= False\n",
      "Episode:  188 ,Return 191.0 , epsilon  0.22 , end= False\n",
      "Episode:  189 ,Return 203.0 , epsilon  0.22 , end= False\n",
      "Episode:  190 ,Return 171.0 , epsilon  0.22 , end= False\n",
      "Episode:  191 ,Return 158.0 , epsilon  0.22 , end= False\n",
      "Episode:  192 ,Return 163.0 , epsilon  0.21 , end= False\n",
      "Episode:  193 ,Return 186.0 , epsilon  0.21 , end= False\n",
      "Episode:  194 ,Return 246.0 , epsilon  0.21 , end= False\n",
      "Episode:  195 ,Return 188.0 , epsilon  0.21 , end= False\n",
      "Episode:  196 ,Return 158.0 , epsilon  0.21 , end= False\n",
      "Episode:  197 ,Return 125.0 , epsilon  0.21 , end= False\n",
      "Episode:  198 ,Return 149.0 , epsilon  0.2 , end= False\n",
      "Episode:  199 ,Return 206.0 , epsilon  0.2 , end= False\n",
      "Episode:  200 ,Return 345.0 , epsilon  0.2 , end= False\n",
      "Episode:  201 ,Return 500.0 , epsilon  0.2 , end= True\n",
      "Episode:  202 ,Return 500.0 , epsilon  0.2 , end= True\n",
      "Episode:  203 ,Return 203.0 , epsilon  0.2 , end= False\n",
      "Episode:  204 ,Return 500.0 , epsilon  0.19 , end= True\n",
      "Episode:  205 ,Return 500.0 , epsilon  0.19 , end= True\n",
      "Episode:  206 ,Return 500.0 , epsilon  0.19 , end= True\n",
      "Episode:  207 ,Return 500.0 , epsilon  0.19 , end= True\n",
      "Objectif atteint :)\n"
     ]
    },
    {
     "data": {
      "image/png": "[encoded data removed]",
      "text/plain": [
       "<Figure size 640x480 with 1 Axes>"
      ]
     },
     "metadata": {},
     "output_type": "display_data"
    }
   ],
   "source": [
    "time_step = 0  # comptage du nombre total de mouvement\n",
    "histoReturn=[] # pour graphique sur historique récompense\n",
    "epsilon=epsilon_max\n",
    "checkpoint_path=\"cartpole-save.weights.h5\"\n",
    "\n",
    "fig = plt.figure()\n",
    "ax = fig.add_subplot(111)\n",
    "goal450=0\n",
    "\n",
    "for i in range(num_episodes):\n",
    "    # somme de la récompense total pour une cycle\n",
    "    Return = 0\n",
    "    \n",
    "    # reset env et conversion state\n",
    "    state = trans_state(env.reset()[0])\n",
    "    done=False\n",
    "    truncated=False\n",
    "    while not(done or truncated):\n",
    "        \n",
    "        # décommenter pour affichage\n",
    "        # env.render()\n",
    "    \n",
    "        time_step += 1\n",
    "        \n",
    "        # copie des poids du réseau d'entrainement vers le réseau cible selon la fréquence choisie\n",
    "        if time_step % dqn.update_freq == 0:\n",
    "            dqn.update_weights()\n",
    "        \n",
    "        # sélection d'une action selon notre politique\n",
    "        action = dqn.policy(state,epsilon)\n",
    "        \n",
    "        # jouer l'action\n",
    "        next_state, reward, done, truncated , _ = env.step(action)\n",
    "        next_state=trans_state(next_state) # reformatage\n",
    "        if truncated:\n",
    "            done=True \n",
    "\n",
    "        # enregistrement pour replay\n",
    "        dqn.store_transition(state, action, reward, next_state, done)\n",
    "        \n",
    "        # et shift d'état\n",
    "        state = next_state\n",
    "        \n",
    "        # cumul du retour G\n",
    "        Return += reward\n",
    "\n",
    "        # Done ?\n",
    "        if done or truncated:\n",
    "            # affichage du résultat du cyle\n",
    "            print('Episode: ',i, ',' 'Return', Return,', epsilon ',np.round(epsilon,2),', end=',truncated)\n",
    "            # ou\n",
    "            # mise àa jour de notre graphique sur les gains tous les 10 cycles\n",
    "            #if i % 10 == 0:\n",
    "            #    ax.clear()\n",
    "            #    ax.plot(histoReturn)\n",
    "            #    display(fig)\n",
    "            #    clear_output(wait=True)\n",
    "    \n",
    "            # on décremmente epsilon\n",
    "            epsilon *= epsilon_decay\n",
    "            epsilon = max(epsilon_min, epsilon)\n",
    "            histoReturn.append(Return)\n",
    "            # Sauvegarde des poids tous les 50 cycles\n",
    "            if i % 50 == 0:\n",
    "                dqn.main_network.save_weights(checkpoint_path)\n",
    "            break\n",
    "\n",
    "        # à partir de + batch-size on entraine le reseau\n",
    "        if len(dqn.replay_buffer) > batch_size:\n",
    "            dqn.train_model(batch_size)\n",
    "\n",
    "    if Return > 450 :\n",
    "        goal450 += 1\n",
    "        if goal450==4:\n",
    "            print(\"Objectif atteint :)\")\n",
    "            break\n",
    "    else:\n",
    "        goal450=0            "
   ]
  },
  {
   "cell_type": "code",
   "execution_count": null,
   "id": "d5613f7f-689b-4932-880e-c6f65d7eeccf",
   "metadata": {},
   "outputs": [],
   "source": []
  },
  {
   "cell_type": "markdown",
   "id": "6400190f-d14b-4eca-8d05-303063e47c2a",
   "metadata": {
    "tags": []
   },
   "source": [
    "---\n",
    "# Visualisons le résultat"
   ]
  },
  {
   "cell_type": "code",
   "execution_count": 9,
   "id": "b4a14087-f533-41a3-9d02-cbd0cd265952",
   "metadata": {},
   "outputs": [],
   "source": [
    "from gymnasium.wrappers import RecordEpisodeStatistics, RecordVideo"
   ]
  },
  {
   "cell_type": "code",
   "execution_count": 22,
   "id": "aec39232-d9d4-41ff-9e94-7bd7d42624bd",
   "metadata": {},
   "outputs": [],
   "source": [
    "ENV_NAME = 'CartPole-v1'\n",
    "\n",
    "env_test = gym.make(ENV_NAME,render_mode=\"rgb_array\")\n",
    "env_test = RecordVideo(env, video_folder=\"video\", name_prefix=\"eval\",\n",
    "                  episode_trigger=lambda x: True)\n",
    "nb_actions = env_test.action_space.n # Nombre d'action\n",
    "nb_obs = env_test.observation_space.shape[0] # nombre de paramètre pour décrire l'environnement\n"
   ]
  },
  {
   "cell_type": "code",
   "execution_count": null,
   "id": "a123316b-b843-4fda-be72-d12b468e090c",
   "metadata": {},
   "outputs": [],
   "source": []
  },
  {
   "cell_type": "code",
   "execution_count": 7,
   "id": "e7367a47-86fa-4746-9f5a-ad57e9bad9d2",
   "metadata": {},
   "outputs": [
    {
     "name": "stderr",
     "output_type": "stream",
     "text": [
      "/home/jupiter2/data/venv/rl/lib/python3.9/site-packages/keras/src/saving/saving_lib.py:576: UserWarning: Skipping variable loading for optimizer 'adam', because it has 2 variables whereas the saved optimizer has 14 variables. \n",
      "  saveable.load_own_variables(weights_store.get(inner_path))\n"
     ]
    }
   ],
   "source": [
    "# optionnel  si vous démarrer sans exécuter les cellules prédédentes\n",
    "dqn = DQN(env_test.observation_space.shape[0],env_test.action_space.n,0.0,0.0)\n",
    "dqn.main_network.load_weights(\"cartpole-save.weights.h5\")"
   ]
  },
  {
   "cell_type": "code",
   "execution_count": 23,
   "id": "213f405d-4599-4834-b7f6-54a3d4773c87",
   "metadata": {},
   "outputs": [
    {
     "name": "stdout",
     "output_type": "stream",
     "text": [
      "Gain 128.0\n"
     ]
    }
   ],
   "source": [
    "state=trans_state(env_test.reset()[0])\n",
    "done = False\n",
    "truncated=False\n",
    "Gain=0\n",
    "while not (done or truncated):\n",
    "    action = dqn.policy(state,0)\n",
    "    next_state, reward, done, truncated , _ = env_test.step(action)\n",
    "    Gain += reward\n",
    "    state=trans_state(next_state)\n",
    "print(f\"Gain {Gain}\")"
   ]
  },
  {
   "cell_type": "code",
   "execution_count": 24,
   "id": "55367f5a-aecc-4b9b-bc9c-0615722c3959",
   "metadata": {},
   "outputs": [],
   "source": [
    "env_test.close()"
   ]
  },
  {
   "cell_type": "markdown",
   "id": "18daef13-6824-4101-ab60-fbe38e4dafbf",
   "metadata": {},
   "source": [
    "------\n",
    "Labo\n",
    "\n",
    "Décomposons notre entrainement"
   ]
  },
  {
   "cell_type": "code",
   "execution_count": null,
   "id": "14bca348-5d75-447b-af6f-3c2688285878",
   "metadata": {},
   "outputs": [],
   "source": [
    "minibatch = random.sample(dqn.replay_buffer,batch_size)\n",
    "states, actions, rewards, next_states, dones = map(np.array, zip(*minibatch))"
   ]
  },
  {
   "cell_type": "code",
   "execution_count": null,
   "id": "34dc7e49-a746-474e-abc8-5ffa9e551f64",
   "metadata": {},
   "outputs": [],
   "source": [
    "states=states.squeeze()\n",
    "next_states=next_states.squeeze()"
   ]
  },
  {
   "cell_type": "code",
   "execution_count": null,
   "id": "66022ba4-1c20-4bed-9978-98e7ec2e2d08",
   "metadata": {},
   "outputs": [],
   "source": [
    "type(states)"
   ]
  },
  {
   "cell_type": "code",
   "execution_count": null,
   "id": "311a9a96-5df7-4f47-b714-a7ba99155504",
   "metadata": {},
   "outputs": [],
   "source": [
    "Q_values = dqn.main_network.predict(states,verbose = 0)"
   ]
  },
  {
   "cell_type": "code",
   "execution_count": null,
   "id": "c40cc57d-e678-4d07-8607-32d6f45d6471",
   "metadata": {},
   "outputs": [],
   "source": [
    "Q_values"
   ]
  },
  {
   "cell_type": "code",
   "execution_count": null,
   "id": "50f3d702-3e67-48b1-bc2e-ca5b0956d901",
   "metadata": {},
   "outputs": [],
   "source": [
    "dones"
   ]
  },
  {
   "cell_type": "code",
   "execution_count": null,
   "id": "0681927d-ce42-4e23-b070-7200cf981430",
   "metadata": {},
   "outputs": [],
   "source": [
    "dqn.target_network.predict(next_states,verbose=0)"
   ]
  },
  {
   "cell_type": "code",
   "execution_count": null,
   "id": "fc088827-f7c4-4c63-b195-06fca13b5a88",
   "metadata": {},
   "outputs": [],
   "source": [
    "rewards"
   ]
  },
  {
   "cell_type": "code",
   "execution_count": null,
   "id": "c3139d2f-e4ff-4f85-b34e-a4048446c100",
   "metadata": {},
   "outputs": [],
   "source": [
    "np.amax(dqn.target_network.predict(next_states,verbose=0),axis=1)"
   ]
  },
  {
   "cell_type": "code",
   "execution_count": null,
   "id": "c0f9c983-3477-4d3a-803f-a23ca0878378",
   "metadata": {},
   "outputs": [],
   "source": [
    "Updates = rewards + dqn.gamma * np.amax(dqn.target_network.predict(next_states,verbose=0),axis=1) * (1-dones)"
   ]
  },
  {
   "cell_type": "code",
   "execution_count": null,
   "id": "41009d7d-b254-471e-ad4d-a67ae056049c",
   "metadata": {},
   "outputs": [],
   "source": [
    "Updates"
   ]
  },
  {
   "cell_type": "code",
   "execution_count": null,
   "id": "cbf21546-3582-422e-aa6f-50dda9e2500a",
   "metadata": {},
   "outputs": [],
   "source": [
    "Updates"
   ]
  },
  {
   "cell_type": "code",
   "execution_count": null,
   "id": "b2a1a6b7-3aec-40d3-929a-088787a9009b",
   "metadata": {},
   "outputs": [],
   "source": [
    "Q_values_C =Q_values.copy()"
   ]
  },
  {
   "cell_type": "code",
   "execution_count": null,
   "id": "4513e40d-b126-4748-a744-759ecc753e9b",
   "metadata": {},
   "outputs": [],
   "source": [
    "Q_values_C[ np.arange(10),actions] = Updates"
   ]
  },
  {
   "cell_type": "code",
   "execution_count": null,
   "id": "b2d48cb5-0584-49c9-8e19-d84800814bc8",
   "metadata": {},
   "outputs": [],
   "source": [
    "Q_values_C"
   ]
  },
  {
   "cell_type": "code",
   "execution_count": null,
   "id": "47535d91-a710-4858-ae6d-6ad9c4a43901",
   "metadata": {},
   "outputs": [],
   "source": []
  }
 ],
 "metadata": {
  "kernelspec": {
   "display_name": "Python 3 (ipykernel)",
   "language": "python",
   "name": "python3"
  },
  "language_info": {
   "codemirror_mode": {
    "name": "ipython",
    "version": 3
   },
   "file_extension": ".py",
   "mimetype": "text/x-python",
   "name": "python",
   "nbconvert_exporter": "python",
   "pygments_lexer": "ipython3",
   "version": "3.11.2"
  }
 },
 "nbformat": 4,
 "nbformat_minor": 5
}
