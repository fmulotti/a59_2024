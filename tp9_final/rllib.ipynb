{
 "cells": [
  {
   "cell_type": "markdown",
   "id": "12196fff-369e-4558-b27e-abb4d4729cf3",
   "metadata": {},
   "source": [
    "----\n",
    "# Apprentissage par renforcement - RLLIB et SAC"
   ]
  },
  {
   "cell_type": "markdown",
   "id": "6142593f-fadb-4cad-973b-b90e17f6f7e6",
   "metadata": {},
   "source": [
    "----\n",
    "### Chargement des bibliothèques"
   ]
  },
  {
   "cell_type": "code",
   "execution_count": null,
   "id": "c5c676eb-b306-46e5-b802-7103331ae3f1",
   "metadata": {},
   "outputs": [],
   "source": [
    "from ray.rllib.algorithms.sac import SACConfig\n",
    "from ray.rllib.utils.replay_buffers.replay_buffer import ReplayBuffer\n",
    "import matplotlib.pyplot as plt\n",
    "from ray import tune\n",
    "from IPython.display import display,clear_output\n",
    "%matplotlib inline"
   ]
  },
  {
   "cell_type": "code",
   "execution_count": null,
   "id": "1c0d1280-835a-43bd-8801-c597238babfa",
   "metadata": {},
   "outputs": [],
   "source": []
  },
  {
   "cell_type": "markdown",
   "id": "8a722698-752d-4cf2-abe5-5fa6f68b7139",
   "metadata": {},
   "source": [
    "----\n",
    "### Configuration de l'entrainement\n",
    "\n",
    "Les informations sont disponibles ici :\n",
    "\n",
    "https://docs.ray.io/en/latest/rllib/rllib-training.html#rllib-config-rollouts\n",
    "\n",
    "Chapitre __training__\n",
    "\n",
    "Configurez :<br>\n",
    "L'environnement Cartpole-v1<br>\n",
    "Une machine d'entrainement (num_env_runner)<br>\n",
    "Les hyperparamètres __gamma__ et __lr__<br>\n",
    "Deux couches cachées avec 100 et 50 neurones pas exemples.<br>\n",
    "\n",
    "Nous utiliserons **torch** et pas tensorflow.\n"
   ]
  },
  {
   "cell_type": "code",
   "execution_count": null,
   "id": "510815e2-650f-440e-b320-f688b274ef69",
   "metadata": {},
   "outputs": [],
   "source": [
    "config = SACConfig()\n",
    "config.environment(\"CartPole-v1\")\n",
    "config.env_runners(num_env_runners=1)\n",
    "# config.framework(\"tf2\")\n",
    "config.training(gamma=0.98, lr=5e-02, train_batch_size=32,model={\"fcnet_hiddens\": [16 , 12]})\n",
    "# Option avec grid search sur lr\n",
    "# config = config.training(gamma=0.98, lr=tune.grid_search([1e-03,1e-04]), train_batch_size=100,model={\"fcnet_hiddens\": [100, 50]})\n",
    "config.resources(num_gpus=1)"
   ]
  },
  {
   "cell_type": "code",
   "execution_count": null,
   "id": "dd9b4e15-28cb-4000-a572-7dbde114331f",
   "metadata": {},
   "outputs": [],
   "source": [
    "config.model_config.values()"
   ]
  },
  {
   "cell_type": "markdown",
   "id": "ce117111-e4ba-4aed-8efd-9485027f3906",
   "metadata": {},
   "source": [
    "---\n",
    "### Compiler la configuration"
   ]
  },
  {
   "cell_type": "code",
   "execution_count": null,
   "id": "bfb81790-c2e0-478b-acfc-dcb3b560bb2e",
   "metadata": {},
   "outputs": [],
   "source": [
    "algo=config.build()"
   ]
  },
  {
   "cell_type": "markdown",
   "id": "df4f3730-09d8-4777-8e8b-ae6cd733d901",
   "metadata": {},
   "source": [
    "---\n",
    "### Lancez l'entrainement"
   ]
  },
  {
   "cell_type": "code",
   "execution_count": null,
   "id": "5d47031f-9d2d-4869-942c-ba844cabfd7d",
   "metadata": {},
   "outputs": [],
   "source": [
    "fig = plt.figure()\n",
    "ax = fig.add_subplot(111)\n",
    "plt.ion()\n",
    "fig.show()\n",
    "fig.canvas.draw()\n",
    "rewards =[]\n",
    "rewardsMax = []\n",
    "for i in range(130):\n",
    "    result = algo.train()\n",
    "    # print(result['env_runners']['episode_reward_mean'])\n",
    "    rewards.append(result['env_runners']['episode_reward_mean']) # \n",
    "    rewardsMax.append(max(result['env_runners']['hist_stats']['episode_reward']))\n",
    "    # rewards_mean = [ sum(rewards[x:x+10])/10 for x in range(len(rewards)-10)]\n",
    "    \n",
    "    ax.clear()\n",
    "    ax.plot(rewards)\n",
    "    ax.plot(rewardsMax)\n",
    "\n",
    "    fig.canvas.draw()\n",
    "    clear_output(wait=True)\n",
    "    display(fig)\n"
   ]
  },
  {
   "cell_type": "code",
   "execution_count": null,
   "id": "e1659f70-d901-444e-8c86-c9ed173c7e87",
   "metadata": {},
   "outputs": [],
   "source": [
    "result"
   ]
  },
  {
   "cell_type": "markdown",
   "id": "6ab97a1b-49d3-466f-933c-b5a624fcf339",
   "metadata": {},
   "source": [
    "---\n",
    "### Sauvegardez votre modèle \n",
    "(idéalement cela est fait fréquement pendant l'entrainment)"
   ]
  },
  {
   "cell_type": "code",
   "execution_count": null,
   "id": "48961591-eb6c-4647-a652-3d40416883b0",
   "metadata": {},
   "outputs": [],
   "source": [
    "algo.save(\".\")"
   ]
  },
  {
   "cell_type": "code",
   "execution_count": null,
   "id": "8a2cb25f-f1f0-4ebb-a085-9d3a4a2d61cd",
   "metadata": {},
   "outputs": [],
   "source": []
  }
 ],
 "metadata": {
  "kernelspec": {
   "display_name": "rllib",
   "language": "python",
   "name": "rllib"
  },
  "language_info": {
   "codemirror_mode": {
    "name": "ipython",
    "version": 3
   },
   "file_extension": ".py",
   "mimetype": "text/x-python",
   "name": "python",
   "nbconvert_exporter": "python",
   "pygments_lexer": "ipython3",
   "version": "3.9.0"
  }
 },
 "nbformat": 4,
 "nbformat_minor": 5
}
